{
 "cells": [
  {
   "cell_type": "code",
   "execution_count": 2,
   "id": "wound-campus",
   "metadata": {},
   "outputs": [],
   "source": [
    "import pandas as pd\n",
    "import numpy as np\n",
    "import datetime as dt\n",
    "import matplotlib\n",
    "import matplotlib.pyplot as plt\n",
    "import scipy.cluster.hierarchy as shc\n",
    "from sklearn.cluster import AgglomerativeClustering\n",
    "import os\n",
    "import seaborn as sns"
   ]
  },
  {
   "cell_type": "code",
   "execution_count": 3,
   "id": "extreme-active",
   "metadata": {},
   "outputs": [],
   "source": [
    "from sklearn.cluster import KMeans\n",
    "from scipy.spatial.distance import cdist, pdist\n",
    "from sklearn.datasets import make_classification\n",
    "from sklearn.datasets import make_blobs\n",
    "from sklearn.metrics import silhouette_samples, silhouette_score\n",
    "import matplotlib.cm as cm\n",
    "from sklearn.mixture import GaussianMixture\n",
    "from sklearn.cluster import DBSCAN\n",
    "from sklearn import preprocessing\n",
    "from sklearn.preprocessing import StandardScaler"
   ]
  },
  {
   "cell_type": "code",
   "execution_count": 4,
   "id": "organic-bidding",
   "metadata": {},
   "outputs": [
    {
     "name": "stderr",
     "output_type": "stream",
     "text": [
      "C:\\Users\\mcarp\\anaconda3\\lib\\site-packages\\IPython\\core\\interactiveshell.py:3156: DtypeWarning: Columns (32,33) have mixed types.Specify dtype option on import or set low_memory=False.\n",
      "  interactivity=interactivity, compiler=compiler, result=result)\n"
     ]
    }
   ],
   "source": [
    "fileName = 'C:/Users/mcarp/Downloads/usa_00012.csv/usa_00012.csv'\n",
    "file = pd.read_csv(fileName)\n",
    "dfCDIALL = pd.DataFrame(file)\n",
    "dfCDI = dfCDIALL[dfCDIALL['YEAR']==2019]"
   ]
  },
  {
   "cell_type": "code",
   "execution_count": 5,
   "id": "opening-provincial",
   "metadata": {},
   "outputs": [
    {
     "data": {
      "text/plain": [
       "(1887461, 40)"
      ]
     },
     "execution_count": 5,
     "metadata": {},
     "output_type": "execute_result"
    }
   ],
   "source": [
    "dfCDI.shape"
   ]
  },
  {
   "cell_type": "code",
   "execution_count": 6,
   "id": "medical-density",
   "metadata": {},
   "outputs": [],
   "source": [
    "fileName2 = 'C:/Users/mcarp/Downloads/county_merged_vals - Sheet1.csv'\n",
    "file2 = pd.read_csv(fileName2)\n",
    "dfCty = pd.DataFrame(file2)"
   ]
  },
  {
   "cell_type": "code",
   "execution_count": 7,
   "id": "comparative-finnish",
   "metadata": {},
   "outputs": [
    {
     "name": "stdout",
     "output_type": "stream",
     "text": [
      "<class 'pandas.core.frame.DataFrame'>\n",
      "Int64Index: 1887461 entries, 4900394 to 6787854\n",
      "Data columns (total 40 columns):\n",
      " #   Column      Dtype  \n",
      "---  ------      -----  \n",
      " 0   YEAR        int64  \n",
      " 1   MULTYEAR    float64\n",
      " 2   SAMPLE      int64  \n",
      " 3   SERIAL      int64  \n",
      " 4   CBSERIAL    float64\n",
      " 5   HHWT        float64\n",
      " 6   CLUSTER     int64  \n",
      " 7   CPI99       float64\n",
      " 8   STATEFIP    int64  \n",
      " 9   COUNTYFIP   int64  \n",
      " 10  DENSITY     float64\n",
      " 11  CITY        int64  \n",
      " 12  PUMA        int64  \n",
      " 13  STRATA      int64  \n",
      " 14  GQ          int64  \n",
      " 15  OWNERSHP    int64  \n",
      " 16  OWNERSHPD   int64  \n",
      " 17  OWNCOST     int64  \n",
      " 18  RENTGRS     int64  \n",
      " 19  HHINCOME    int64  \n",
      " 20  CIHISPEED   float64\n",
      " 21  PERNUM      int64  \n",
      " 22  PERWT       float64\n",
      " 23  FAMSIZE     int64  \n",
      " 24  SEX         int64  \n",
      " 25  AGE         int64  \n",
      " 26  RACE        int64  \n",
      " 27  RACED       int64  \n",
      " 28  HISPAN      int64  \n",
      " 29  HISPAND     int64  \n",
      " 30  EDUC        int64  \n",
      " 31  EDUCD       int64  \n",
      " 32  OCCSOC      object \n",
      " 33  INDNAICS    object \n",
      " 34  INCTOT      int64  \n",
      " 35  FTOTINC     int64  \n",
      " 36  INCWAGE     int64  \n",
      " 37  MIGCOUNTY1  float64\n",
      " 38  MOVEDIN     int64  \n",
      " 39  TRANTIME    int64  \n",
      "dtypes: float64(8), int64(30), object(2)\n",
      "memory usage: 590.4+ MB\n"
     ]
    }
   ],
   "source": [
    "dfCDI.info()"
   ]
  },
  {
   "cell_type": "code",
   "execution_count": 8,
   "id": "tender-liberty",
   "metadata": {},
   "outputs": [
    {
     "data": {
      "text/plain": [
       "(1887461, 40)"
      ]
     },
     "execution_count": 8,
     "metadata": {},
     "output_type": "execute_result"
    }
   ],
   "source": [
    "dfCDI.shape"
   ]
  },
  {
   "cell_type": "code",
   "execution_count": 9,
   "id": "occupied-australian",
   "metadata": {},
   "outputs": [
    {
     "data": {
      "text/plain": [
       "(1417874, 40)"
      ]
     },
     "execution_count": 9,
     "metadata": {},
     "output_type": "execute_result"
    }
   ],
   "source": [
    "dfCDI = dfCDI[dfCDI['AGE']>=21]\n",
    "dfCDI.shape"
   ]
  },
  {
   "cell_type": "code",
   "execution_count": 10,
   "id": "based-worry",
   "metadata": {},
   "outputs": [
    {
     "data": {
      "text/plain": [
       "0       941339\n",
       "1252      1640\n",
       "1460      1534\n",
       "1619      1222\n",
       "1079      1172\n",
       "         ...  \n",
       "4263         1\n",
       "332          1\n",
       "3996         1\n",
       "57           1\n",
       "197          1\n",
       "Name: RENTGRS, Length: 4547, dtype: int64"
      ]
     },
     "execution_count": 10,
     "metadata": {},
     "output_type": "execute_result"
    }
   ],
   "source": [
    "dfCDI.RENTGRS.value_counts()"
   ]
  },
  {
   "cell_type": "code",
   "execution_count": 11,
   "id": "satisfactory-exhaust",
   "metadata": {},
   "outputs": [
    {
     "data": {
      "text/plain": [
       "count    863826.0\n",
       "mean          0.0\n",
       "std           0.0\n",
       "min           0.0\n",
       "25%           0.0\n",
       "50%           0.0\n",
       "75%           0.0\n",
       "max           0.0\n",
       "Name: RENTGRS, dtype: float64"
      ]
     },
     "execution_count": 11,
     "metadata": {},
     "output_type": "execute_result"
    }
   ],
   "source": [
    "dfHomeOwn=dfCDI[dfCDI['OWNERSHP']==1]\n",
    "dfHomeOwn.RENTGRS.describe()"
   ]
  },
  {
   "cell_type": "markdown",
   "id": "premium-composer",
   "metadata": {},
   "source": [
    "This reveals that home owning rows all have 0 values for cost of rent."
   ]
  },
  {
   "cell_type": "code",
   "execution_count": 12,
   "id": "driving-selling",
   "metadata": {},
   "outputs": [
    {
     "data": {
      "text/plain": [
       "1    863826\n",
       "2    494178\n",
       "0     59870\n",
       "Name: OWNERSHP, dtype: int64"
      ]
     },
     "execution_count": 12,
     "metadata": {},
     "output_type": "execute_result"
    }
   ],
   "source": [
    "dfCDI['OWNERSHP'].value_counts()"
   ]
  },
  {
   "cell_type": "code",
   "execution_count": 13,
   "id": "confidential-column",
   "metadata": {},
   "outputs": [
    {
     "data": {
      "text/plain": [
       "(1358004, 40)"
      ]
     },
     "execution_count": 13,
     "metadata": {},
     "output_type": "execute_result"
    }
   ],
   "source": [
    "dfCDI = dfCDI[dfCDI['OWNERSHP']!=0]\n",
    "dfCDI.shape"
   ]
  },
  {
   "cell_type": "markdown",
   "id": "acknowledged-boring",
   "metadata": {},
   "source": [
    "Removes N/As (~50k rows)"
   ]
  },
  {
   "cell_type": "code",
   "execution_count": 14,
   "id": "sitting-gasoline",
   "metadata": {},
   "outputs": [
    {
     "data": {
      "text/plain": [
       "0       881469\n",
       "1252      1640\n",
       "1460      1534\n",
       "1619      1222\n",
       "1079      1172\n",
       "         ...  \n",
       "4263         1\n",
       "332          1\n",
       "3996         1\n",
       "57           1\n",
       "197          1\n",
       "Name: RENTGRS, Length: 4547, dtype: int64"
      ]
     },
     "execution_count": 14,
     "metadata": {},
     "output_type": "execute_result"
    }
   ],
   "source": [
    "dfCDI['RENTGRS'].value_counts()"
   ]
  },
  {
   "cell_type": "code",
   "execution_count": 15,
   "id": "adjusted-brother",
   "metadata": {},
   "outputs": [],
   "source": [
    "dfCDI['affrentdec'] = dfCDI['RENTGRS']*12/dfCDI['HHINCOME']"
   ]
  },
  {
   "cell_type": "code",
   "execution_count": 16,
   "id": "married-federal",
   "metadata": {},
   "outputs": [],
   "source": [
    "def housingFunc(own, affrentdec):\n",
    "    if own==1:\n",
    "        housingCat=2\n",
    "    elif own==2 and affrentdec<.3:\n",
    "        housingCat=1\n",
    "    else:\n",
    "        housingCat=0\n",
    "    return housingCat"
   ]
  },
  {
   "cell_type": "code",
   "execution_count": 17,
   "id": "approved-while",
   "metadata": {},
   "outputs": [
    {
     "data": {
      "text/plain": [
       "2    863826\n",
       "1    261051\n",
       "0    233127\n",
       "Name: HousingCat, dtype: int64"
      ]
     },
     "execution_count": 17,
     "metadata": {},
     "output_type": "execute_result"
    }
   ],
   "source": [
    "dfCDI['HousingCat'] = dfCDI.apply(lambda x: housingFunc(x['OWNERSHP'], x['affrentdec']), axis=1)\n",
    "dfCDI['HousingCat'].value_counts()"
   ]
  },
  {
   "cell_type": "markdown",
   "id": "breathing-disaster",
   "metadata": {},
   "source": [
    "COMBINING aff. rent and home ownership into 1 indicator: 0, 1, 2 scores (0: rent>=30% income, 1: rent<30% income, 2: owner)"
   ]
  },
  {
   "cell_type": "code",
   "execution_count": 18,
   "id": "revolutionary-wages",
   "metadata": {},
   "outputs": [
    {
     "data": {
      "text/plain": [
       "0    761987\n",
       "1    596017\n",
       "Name: EDUCbin, dtype: int64"
      ]
     },
     "execution_count": 18,
     "metadata": {},
     "output_type": "execute_result"
    }
   ],
   "source": [
    "dfCDI['EDUCbin'] = [1 if x >=8 else 0 for x in dfCDI['EDUC']]\n",
    "dfCDI['EDUCbin'].value_counts()"
   ]
  },
  {
   "cell_type": "code",
   "execution_count": 19,
   "id": "adjacent-domain",
   "metadata": {},
   "outputs": [
    {
     "data": {
      "text/plain": [
       "10.0    1047257\n",
       "20.0     176856\n",
       "0.0      133891\n",
       "Name: CIHISPEED, dtype: int64"
      ]
     },
     "execution_count": 19,
     "metadata": {},
     "output_type": "execute_result"
    }
   ],
   "source": [
    "dfCDI['CIHISPEED'].value_counts()"
   ]
  },
  {
   "cell_type": "code",
   "execution_count": 20,
   "id": "interesting-hamburg",
   "metadata": {},
   "outputs": [],
   "source": [
    "dfCDI = dfCDI[dfCDI['CIHISPEED']!=0]"
   ]
  },
  {
   "cell_type": "code",
   "execution_count": 21,
   "id": "aging-elizabeth",
   "metadata": {},
   "outputs": [
    {
     "data": {
      "text/plain": [
       "0      510201\n",
       "30     105754\n",
       "15      96661\n",
       "20      96467\n",
       "10      73306\n",
       "        ...  \n",
       "104         1\n",
       "117         1\n",
       "116         1\n",
       "103         1\n",
       "113         1\n",
       "Name: TRANTIME, Length: 120, dtype: int64"
      ]
     },
     "execution_count": 21,
     "metadata": {},
     "output_type": "execute_result"
    }
   ],
   "source": [
    "dfCDI['TRANTIME'].value_counts()"
   ]
  },
  {
   "cell_type": "code",
   "execution_count": 22,
   "id": "honey-concern",
   "metadata": {},
   "outputs": [
    {
     "data": {
      "text/plain": [
       "(1224113, 43)"
      ]
     },
     "execution_count": 22,
     "metadata": {},
     "output_type": "execute_result"
    }
   ],
   "source": [
    "dfCDI.shape"
   ]
  },
  {
   "cell_type": "markdown",
   "id": "brazilian-calgary",
   "metadata": {},
   "source": [
    "## County-level merge"
   ]
  },
  {
   "cell_type": "code",
   "execution_count": 23,
   "id": "invalid-squad",
   "metadata": {},
   "outputs": [
    {
     "data": {
      "text/plain": [
       "(1180785, 60)"
      ]
     },
     "execution_count": 23,
     "metadata": {},
     "output_type": "execute_result"
    }
   ],
   "source": [
    "joined2019_2 = dfCDI.merge(dfCty, on='COUNTYFIP')\n",
    "joined2019_2.shape"
   ]
  },
  {
   "cell_type": "code",
   "execution_count": 24,
   "id": "twelve-mortgage",
   "metadata": {},
   "outputs": [
    {
     "name": "stdout",
     "output_type": "stream",
     "text": [
      "41\n",
      "42\n",
      "20\n",
      "39\n",
      "56\n",
      "58\n",
      "57\n",
      "59\n",
      "5\n",
      "19\n",
      "26\n",
      "25\n",
      "24\n",
      "9\n",
      "28\n"
     ]
    }
   ],
   "source": [
    "print(joined2019_2.columns.get_loc(\"HousingCat\"))\n",
    "print(joined2019_2.columns.get_loc(\"EDUCbin\"))\n",
    "print(joined2019_2.columns.get_loc(\"CIHISPEED\"))\n",
    "print(joined2019_2.columns.get_loc(\"TRANTIME\"))\n",
    "print(joined2019_2.columns.get_loc(\"DrinkingWater\"))\n",
    "print(joined2019_2.columns.get_loc(\"AirQuality\"))\n",
    "print(joined2019_2.columns.get_loc(\"EarlyEd\"))\n",
    "print(joined2019_2.columns.get_loc(\"ProspNeigh\"))\n",
    "print(joined2019_2.columns.get_loc(\"HHWT\"))\n",
    "print(joined2019_2.columns.get_loc(\"HHINCOME\"))\n",
    "print(joined2019_2.columns.get_loc(\"RACE\"))\n",
    "print(joined2019_2.columns.get_loc(\"AGE\"))\n",
    "print(joined2019_2.columns.get_loc(\"SEX\"))\n",
    "print(joined2019_2.columns.get_loc(\"COUNTYFIP\"))\n",
    "print(joined2019_2.columns.get_loc(\"HISPAN\"))"
   ]
  },
  {
   "cell_type": "code",
   "execution_count": 25,
   "id": "representative-cyprus",
   "metadata": {},
   "outputs": [],
   "source": [
    "X = joined2019_2.iloc[:, [41,42,20,39,56,58,57,59,5,19,26,25,24,9,28]]"
   ]
  },
  {
   "cell_type": "code",
   "execution_count": 26,
   "id": "infrared-shakespeare",
   "metadata": {},
   "outputs": [
    {
     "data": {
      "text/html": [
       "<div>\n",
       "<style scoped>\n",
       "    .dataframe tbody tr th:only-of-type {\n",
       "        vertical-align: middle;\n",
       "    }\n",
       "\n",
       "    .dataframe tbody tr th {\n",
       "        vertical-align: top;\n",
       "    }\n",
       "\n",
       "    .dataframe thead th {\n",
       "        text-align: right;\n",
       "    }\n",
       "</style>\n",
       "<table border=\"1\" class=\"dataframe\">\n",
       "  <thead>\n",
       "    <tr style=\"text-align: right;\">\n",
       "      <th></th>\n",
       "      <th>HousingCat</th>\n",
       "      <th>EDUCbin</th>\n",
       "      <th>CIHISPEED</th>\n",
       "      <th>TRANTIME</th>\n",
       "      <th>DrinkingWater</th>\n",
       "      <th>AirQuality</th>\n",
       "      <th>EarlyEd</th>\n",
       "      <th>ProspNeigh</th>\n",
       "      <th>HHWT</th>\n",
       "      <th>HHINCOME</th>\n",
       "      <th>RACE</th>\n",
       "      <th>AGE</th>\n",
       "      <th>SEX</th>\n",
       "      <th>COUNTYFIP</th>\n",
       "      <th>HISPAN</th>\n",
       "    </tr>\n",
       "  </thead>\n",
       "  <tbody>\n",
       "    <tr>\n",
       "      <th>count</th>\n",
       "      <td>1.180785e+06</td>\n",
       "      <td>1.180785e+06</td>\n",
       "      <td>1.180785e+06</td>\n",
       "      <td>1.180785e+06</td>\n",
       "      <td>1.180785e+06</td>\n",
       "      <td>1.180785e+06</td>\n",
       "      <td>1.180785e+06</td>\n",
       "      <td>1.180785e+06</td>\n",
       "      <td>1.180785e+06</td>\n",
       "      <td>1.180785e+06</td>\n",
       "      <td>1.180785e+06</td>\n",
       "      <td>1.180785e+06</td>\n",
       "      <td>1.180785e+06</td>\n",
       "      <td>1.180785e+06</td>\n",
       "      <td>1.180785e+06</td>\n",
       "    </tr>\n",
       "    <tr>\n",
       "      <th>mean</th>\n",
       "      <td>1.495227e+00</td>\n",
       "      <td>4.688491e-01</td>\n",
       "      <td>1.139179e+01</td>\n",
       "      <td>1.802718e+01</td>\n",
       "      <td>9.943121e-01</td>\n",
       "      <td>3.523099e+01</td>\n",
       "      <td>5.149841e-01</td>\n",
       "      <td>8.171870e-01</td>\n",
       "      <td>1.920797e+01</td>\n",
       "      <td>1.304553e+05</td>\n",
       "      <td>2.707418e+00</td>\n",
       "      <td>4.894611e+01</td>\n",
       "      <td>1.519320e+00</td>\n",
       "      <td>5.555397e+01</td>\n",
       "      <td>4.579064e-01</td>\n",
       "    </tr>\n",
       "    <tr>\n",
       "      <th>std</th>\n",
       "      <td>7.505296e-01</td>\n",
       "      <td>4.990289e-01</td>\n",
       "      <td>3.461329e+00</td>\n",
       "      <td>2.410094e+01</td>\n",
       "      <td>1.992936e-02</td>\n",
       "      <td>6.126561e+00</td>\n",
       "      <td>8.383225e-02</td>\n",
       "      <td>1.154902e-01</td>\n",
       "      <td>1.332511e+01</td>\n",
       "      <td>1.262577e+05</td>\n",
       "      <td>2.489673e+00</td>\n",
       "      <td>1.712028e+01</td>\n",
       "      <td>4.996268e-01</td>\n",
       "      <td>2.663707e+01</td>\n",
       "      <td>9.457240e-01</td>\n",
       "    </tr>\n",
       "    <tr>\n",
       "      <th>min</th>\n",
       "      <td>0.000000e+00</td>\n",
       "      <td>0.000000e+00</td>\n",
       "      <td>1.000000e+01</td>\n",
       "      <td>0.000000e+00</td>\n",
       "      <td>8.888183e-01</td>\n",
       "      <td>1.700000e+01</td>\n",
       "      <td>3.260000e-01</td>\n",
       "      <td>3.646189e-01</td>\n",
       "      <td>1.000000e+00</td>\n",
       "      <td>-1.575500e+04</td>\n",
       "      <td>1.000000e+00</td>\n",
       "      <td>2.100000e+01</td>\n",
       "      <td>1.000000e+00</td>\n",
       "      <td>1.000000e+00</td>\n",
       "      <td>0.000000e+00</td>\n",
       "    </tr>\n",
       "    <tr>\n",
       "      <th>25%</th>\n",
       "      <td>1.000000e+00</td>\n",
       "      <td>0.000000e+00</td>\n",
       "      <td>1.000000e+01</td>\n",
       "      <td>0.000000e+00</td>\n",
       "      <td>9.996217e-01</td>\n",
       "      <td>3.000000e+01</td>\n",
       "      <td>4.570000e-01</td>\n",
       "      <td>7.592451e-01</td>\n",
       "      <td>1.200000e+01</td>\n",
       "      <td>5.400000e+04</td>\n",
       "      <td>1.000000e+00</td>\n",
       "      <td>3.400000e+01</td>\n",
       "      <td>1.000000e+00</td>\n",
       "      <td>3.700000e+01</td>\n",
       "      <td>0.000000e+00</td>\n",
       "    </tr>\n",
       "    <tr>\n",
       "      <th>50%</th>\n",
       "      <td>2.000000e+00</td>\n",
       "      <td>0.000000e+00</td>\n",
       "      <td>1.000000e+01</td>\n",
       "      <td>1.000000e+01</td>\n",
       "      <td>9.999295e-01</td>\n",
       "      <td>3.700000e+01</td>\n",
       "      <td>5.450000e-01</td>\n",
       "      <td>8.183911e-01</td>\n",
       "      <td>1.500000e+01</td>\n",
       "      <td>9.800000e+04</td>\n",
       "      <td>1.000000e+00</td>\n",
       "      <td>4.800000e+01</td>\n",
       "      <td>2.000000e+00</td>\n",
       "      <td>5.900000e+01</td>\n",
       "      <td>0.000000e+00</td>\n",
       "    </tr>\n",
       "    <tr>\n",
       "      <th>75%</th>\n",
       "      <td>2.000000e+00</td>\n",
       "      <td>1.000000e+00</td>\n",
       "      <td>1.000000e+01</td>\n",
       "      <td>3.000000e+01</td>\n",
       "      <td>1.000000e+00</td>\n",
       "      <td>4.000000e+01</td>\n",
       "      <td>5.540000e-01</td>\n",
       "      <td>8.968348e-01</td>\n",
       "      <td>2.300000e+01</td>\n",
       "      <td>1.628990e+05</td>\n",
       "      <td>6.000000e+00</td>\n",
       "      <td>6.200000e+01</td>\n",
       "      <td>2.000000e+00</td>\n",
       "      <td>7.300000e+01</td>\n",
       "      <td>1.000000e+00</td>\n",
       "    </tr>\n",
       "    <tr>\n",
       "      <th>max</th>\n",
       "      <td>2.000000e+00</td>\n",
       "      <td>1.000000e+00</td>\n",
       "      <td>2.000000e+01</td>\n",
       "      <td>1.420000e+02</td>\n",
       "      <td>1.000000e+00</td>\n",
       "      <td>4.300000e+01</td>\n",
       "      <td>7.440000e-01</td>\n",
       "      <td>9.960382e-01</td>\n",
       "      <td>2.670000e+02</td>\n",
       "      <td>2.626744e+06</td>\n",
       "      <td>9.000000e+00</td>\n",
       "      <td>9.400000e+01</td>\n",
       "      <td>2.000000e+00</td>\n",
       "      <td>1.130000e+02</td>\n",
       "      <td>4.000000e+00</td>\n",
       "    </tr>\n",
       "  </tbody>\n",
       "</table>\n",
       "</div>"
      ],
      "text/plain": [
       "         HousingCat       EDUCbin     CIHISPEED      TRANTIME  DrinkingWater  \\\n",
       "count  1.180785e+06  1.180785e+06  1.180785e+06  1.180785e+06   1.180785e+06   \n",
       "mean   1.495227e+00  4.688491e-01  1.139179e+01  1.802718e+01   9.943121e-01   \n",
       "std    7.505296e-01  4.990289e-01  3.461329e+00  2.410094e+01   1.992936e-02   \n",
       "min    0.000000e+00  0.000000e+00  1.000000e+01  0.000000e+00   8.888183e-01   \n",
       "25%    1.000000e+00  0.000000e+00  1.000000e+01  0.000000e+00   9.996217e-01   \n",
       "50%    2.000000e+00  0.000000e+00  1.000000e+01  1.000000e+01   9.999295e-01   \n",
       "75%    2.000000e+00  1.000000e+00  1.000000e+01  3.000000e+01   1.000000e+00   \n",
       "max    2.000000e+00  1.000000e+00  2.000000e+01  1.420000e+02   1.000000e+00   \n",
       "\n",
       "         AirQuality       EarlyEd    ProspNeigh          HHWT      HHINCOME  \\\n",
       "count  1.180785e+06  1.180785e+06  1.180785e+06  1.180785e+06  1.180785e+06   \n",
       "mean   3.523099e+01  5.149841e-01  8.171870e-01  1.920797e+01  1.304553e+05   \n",
       "std    6.126561e+00  8.383225e-02  1.154902e-01  1.332511e+01  1.262577e+05   \n",
       "min    1.700000e+01  3.260000e-01  3.646189e-01  1.000000e+00 -1.575500e+04   \n",
       "25%    3.000000e+01  4.570000e-01  7.592451e-01  1.200000e+01  5.400000e+04   \n",
       "50%    3.700000e+01  5.450000e-01  8.183911e-01  1.500000e+01  9.800000e+04   \n",
       "75%    4.000000e+01  5.540000e-01  8.968348e-01  2.300000e+01  1.628990e+05   \n",
       "max    4.300000e+01  7.440000e-01  9.960382e-01  2.670000e+02  2.626744e+06   \n",
       "\n",
       "               RACE           AGE           SEX     COUNTYFIP        HISPAN  \n",
       "count  1.180785e+06  1.180785e+06  1.180785e+06  1.180785e+06  1.180785e+06  \n",
       "mean   2.707418e+00  4.894611e+01  1.519320e+00  5.555397e+01  4.579064e-01  \n",
       "std    2.489673e+00  1.712028e+01  4.996268e-01  2.663707e+01  9.457240e-01  \n",
       "min    1.000000e+00  2.100000e+01  1.000000e+00  1.000000e+00  0.000000e+00  \n",
       "25%    1.000000e+00  3.400000e+01  1.000000e+00  3.700000e+01  0.000000e+00  \n",
       "50%    1.000000e+00  4.800000e+01  2.000000e+00  5.900000e+01  0.000000e+00  \n",
       "75%    6.000000e+00  6.200000e+01  2.000000e+00  7.300000e+01  1.000000e+00  \n",
       "max    9.000000e+00  9.400000e+01  2.000000e+00  1.130000e+02  4.000000e+00  "
      ]
     },
     "execution_count": 26,
     "metadata": {},
     "output_type": "execute_result"
    }
   ],
   "source": [
    "X.describe()"
   ]
  },
  {
   "cell_type": "markdown",
   "id": "harmful-satin",
   "metadata": {},
   "source": [
    "## Standardization:"
   ]
  },
  {
   "cell_type": "code",
   "execution_count": 27,
   "id": "clinical-extension",
   "metadata": {},
   "outputs": [],
   "source": [
    "scaler=StandardScaler()\n",
    "scalerNum = scaler.fit(X)\n",
    "Xstd = scalerNum.transform(X)"
   ]
  },
  {
   "cell_type": "code",
   "execution_count": 28,
   "id": "million-auction",
   "metadata": {},
   "outputs": [
    {
     "data": {
      "text/html": [
       "<div>\n",
       "<style scoped>\n",
       "    .dataframe tbody tr th:only-of-type {\n",
       "        vertical-align: middle;\n",
       "    }\n",
       "\n",
       "    .dataframe tbody tr th {\n",
       "        vertical-align: top;\n",
       "    }\n",
       "\n",
       "    .dataframe thead th {\n",
       "        text-align: right;\n",
       "    }\n",
       "</style>\n",
       "<table border=\"1\" class=\"dataframe\">\n",
       "  <thead>\n",
       "    <tr style=\"text-align: right;\">\n",
       "      <th></th>\n",
       "      <th>HousingCat</th>\n",
       "      <th>EDUCbin</th>\n",
       "      <th>CIHISPEED</th>\n",
       "      <th>TRANTIME</th>\n",
       "      <th>DrinkingWater</th>\n",
       "      <th>AirQuality</th>\n",
       "      <th>EarlyEd</th>\n",
       "      <th>ProspNeigh</th>\n",
       "      <th>HHWT</th>\n",
       "      <th>HHINCOME</th>\n",
       "      <th>RACE</th>\n",
       "      <th>AGE</th>\n",
       "      <th>SEX</th>\n",
       "      <th>COUNTYFIP</th>\n",
       "      <th>HISPAN</th>\n",
       "    </tr>\n",
       "  </thead>\n",
       "  <tbody>\n",
       "    <tr>\n",
       "      <th>count</th>\n",
       "      <td>1.180785e+06</td>\n",
       "      <td>1.180785e+06</td>\n",
       "      <td>1.180785e+06</td>\n",
       "      <td>1.180785e+06</td>\n",
       "      <td>1.180785e+06</td>\n",
       "      <td>1.180785e+06</td>\n",
       "      <td>1.180785e+06</td>\n",
       "      <td>1.180785e+06</td>\n",
       "      <td>1.180785e+06</td>\n",
       "      <td>1.180785e+06</td>\n",
       "      <td>1.180785e+06</td>\n",
       "      <td>1.180785e+06</td>\n",
       "      <td>1.180785e+06</td>\n",
       "      <td>1.180785e+06</td>\n",
       "      <td>1.180785e+06</td>\n",
       "    </tr>\n",
       "    <tr>\n",
       "      <th>mean</th>\n",
       "      <td>7.065428e-13</td>\n",
       "      <td>-4.973875e-14</td>\n",
       "      <td>8.830854e-14</td>\n",
       "      <td>-4.389707e-13</td>\n",
       "      <td>-2.740658e-13</td>\n",
       "      <td>1.435436e-12</td>\n",
       "      <td>-3.516910e-12</td>\n",
       "      <td>5.989656e-13</td>\n",
       "      <td>-3.423819e-14</td>\n",
       "      <td>1.485636e-15</td>\n",
       "      <td>5.424345e-13</td>\n",
       "      <td>-8.973570e-15</td>\n",
       "      <td>-1.163833e-15</td>\n",
       "      <td>1.730875e-12</td>\n",
       "      <td>3.176876e-13</td>\n",
       "    </tr>\n",
       "    <tr>\n",
       "      <th>std</th>\n",
       "      <td>1.000000e+00</td>\n",
       "      <td>1.000000e+00</td>\n",
       "      <td>1.000000e+00</td>\n",
       "      <td>1.000000e+00</td>\n",
       "      <td>1.000000e+00</td>\n",
       "      <td>1.000000e+00</td>\n",
       "      <td>1.000000e+00</td>\n",
       "      <td>1.000000e+00</td>\n",
       "      <td>1.000000e+00</td>\n",
       "      <td>1.000000e+00</td>\n",
       "      <td>1.000000e+00</td>\n",
       "      <td>1.000000e+00</td>\n",
       "      <td>1.000000e+00</td>\n",
       "      <td>1.000000e+00</td>\n",
       "      <td>1.000000e+00</td>\n",
       "    </tr>\n",
       "    <tr>\n",
       "      <th>min</th>\n",
       "      <td>-1.992230e+00</td>\n",
       "      <td>-9.395234e-01</td>\n",
       "      <td>-4.020960e-01</td>\n",
       "      <td>-7.479869e-01</td>\n",
       "      <td>-5.293388e+00</td>\n",
       "      <td>-2.975731e+00</td>\n",
       "      <td>-2.254314e+00</td>\n",
       "      <td>-3.918673e+00</td>\n",
       "      <td>-1.366441e+00</td>\n",
       "      <td>-1.158032e+00</td>\n",
       "      <td>-6.858003e-01</td>\n",
       "      <td>-1.632340e+00</td>\n",
       "      <td>-1.039416e+00</td>\n",
       "      <td>-2.048047e+00</td>\n",
       "      <td>-4.841863e-01</td>\n",
       "    </tr>\n",
       "    <tr>\n",
       "      <th>25%</th>\n",
       "      <td>-6.598374e-01</td>\n",
       "      <td>-9.395234e-01</td>\n",
       "      <td>-4.020960e-01</td>\n",
       "      <td>-7.479869e-01</td>\n",
       "      <td>2.664198e-01</td>\n",
       "      <td>-8.538214e-01</td>\n",
       "      <td>-6.916685e-01</td>\n",
       "      <td>-5.017038e-01</td>\n",
       "      <td>-5.409315e-01</td>\n",
       "      <td>-6.055501e-01</td>\n",
       "      <td>-6.858003e-01</td>\n",
       "      <td>-8.730066e-01</td>\n",
       "      <td>-1.039416e+00</td>\n",
       "      <td>-6.965469e-01</td>\n",
       "      <td>-4.841863e-01</td>\n",
       "    </tr>\n",
       "    <tr>\n",
       "      <th>50%</th>\n",
       "      <td>6.725556e-01</td>\n",
       "      <td>-9.395234e-01</td>\n",
       "      <td>-4.020960e-01</td>\n",
       "      <td>-3.330653e-01</td>\n",
       "      <td>2.818670e-01</td>\n",
       "      <td>2.887450e-01</td>\n",
       "      <td>3.580473e-01</td>\n",
       "      <td>1.042612e-02</td>\n",
       "      <td>-3.157925e-01</td>\n",
       "      <td>-2.570564e-01</td>\n",
       "      <td>-6.858003e-01</td>\n",
       "      <td>-5.526249e-02</td>\n",
       "      <td>9.620789e-01</td>\n",
       "      <td>1.293699e-01</td>\n",
       "      <td>-4.841863e-01</td>\n",
       "    </tr>\n",
       "    <tr>\n",
       "      <th>75%</th>\n",
       "      <td>6.725556e-01</td>\n",
       "      <td>1.064369e+00</td>\n",
       "      <td>-4.020960e-01</td>\n",
       "      <td>4.967781e-01</td>\n",
       "      <td>2.854028e-01</td>\n",
       "      <td>7.784163e-01</td>\n",
       "      <td>4.654046e-01</td>\n",
       "      <td>6.896505e-01</td>\n",
       "      <td>2.845780e-01</td>\n",
       "      <td>2.569640e-01</td>\n",
       "      <td>1.322497e+00</td>\n",
       "      <td>7.624816e-01</td>\n",
       "      <td>9.620789e-01</td>\n",
       "      <td>6.549534e-01</td>\n",
       "      <td>5.732051e-01</td>\n",
       "    </tr>\n",
       "    <tr>\n",
       "      <th>max</th>\n",
       "      <td>6.725556e-01</td>\n",
       "      <td>1.064369e+00</td>\n",
       "      <td>2.486969e+00</td>\n",
       "      <td>5.143901e+00</td>\n",
       "      <td>2.854028e-01</td>\n",
       "      <td>1.268088e+00</td>\n",
       "      <td>2.731836e+00</td>\n",
       "      <td>1.548628e+00</td>\n",
       "      <td>1.859588e+01</td>\n",
       "      <td>1.977139e+01</td>\n",
       "      <td>2.527475e+00</td>\n",
       "      <td>2.631611e+00</td>\n",
       "      <td>9.620789e-01</td>\n",
       "      <td>2.156620e+00</td>\n",
       "      <td>3.745379e+00</td>\n",
       "    </tr>\n",
       "  </tbody>\n",
       "</table>\n",
       "</div>"
      ],
      "text/plain": [
       "         HousingCat       EDUCbin     CIHISPEED      TRANTIME  DrinkingWater  \\\n",
       "count  1.180785e+06  1.180785e+06  1.180785e+06  1.180785e+06   1.180785e+06   \n",
       "mean   7.065428e-13 -4.973875e-14  8.830854e-14 -4.389707e-13  -2.740658e-13   \n",
       "std    1.000000e+00  1.000000e+00  1.000000e+00  1.000000e+00   1.000000e+00   \n",
       "min   -1.992230e+00 -9.395234e-01 -4.020960e-01 -7.479869e-01  -5.293388e+00   \n",
       "25%   -6.598374e-01 -9.395234e-01 -4.020960e-01 -7.479869e-01   2.664198e-01   \n",
       "50%    6.725556e-01 -9.395234e-01 -4.020960e-01 -3.330653e-01   2.818670e-01   \n",
       "75%    6.725556e-01  1.064369e+00 -4.020960e-01  4.967781e-01   2.854028e-01   \n",
       "max    6.725556e-01  1.064369e+00  2.486969e+00  5.143901e+00   2.854028e-01   \n",
       "\n",
       "         AirQuality       EarlyEd    ProspNeigh          HHWT      HHINCOME  \\\n",
       "count  1.180785e+06  1.180785e+06  1.180785e+06  1.180785e+06  1.180785e+06   \n",
       "mean   1.435436e-12 -3.516910e-12  5.989656e-13 -3.423819e-14  1.485636e-15   \n",
       "std    1.000000e+00  1.000000e+00  1.000000e+00  1.000000e+00  1.000000e+00   \n",
       "min   -2.975731e+00 -2.254314e+00 -3.918673e+00 -1.366441e+00 -1.158032e+00   \n",
       "25%   -8.538214e-01 -6.916685e-01 -5.017038e-01 -5.409315e-01 -6.055501e-01   \n",
       "50%    2.887450e-01  3.580473e-01  1.042612e-02 -3.157925e-01 -2.570564e-01   \n",
       "75%    7.784163e-01  4.654046e-01  6.896505e-01  2.845780e-01  2.569640e-01   \n",
       "max    1.268088e+00  2.731836e+00  1.548628e+00  1.859588e+01  1.977139e+01   \n",
       "\n",
       "               RACE           AGE           SEX     COUNTYFIP        HISPAN  \n",
       "count  1.180785e+06  1.180785e+06  1.180785e+06  1.180785e+06  1.180785e+06  \n",
       "mean   5.424345e-13 -8.973570e-15 -1.163833e-15  1.730875e-12  3.176876e-13  \n",
       "std    1.000000e+00  1.000000e+00  1.000000e+00  1.000000e+00  1.000000e+00  \n",
       "min   -6.858003e-01 -1.632340e+00 -1.039416e+00 -2.048047e+00 -4.841863e-01  \n",
       "25%   -6.858003e-01 -8.730066e-01 -1.039416e+00 -6.965469e-01 -4.841863e-01  \n",
       "50%   -6.858003e-01 -5.526249e-02  9.620789e-01  1.293699e-01 -4.841863e-01  \n",
       "75%    1.322497e+00  7.624816e-01  9.620789e-01  6.549534e-01  5.732051e-01  \n",
       "max    2.527475e+00  2.631611e+00  9.620789e-01  2.156620e+00  3.745379e+00  "
      ]
     },
     "execution_count": 28,
     "metadata": {},
     "output_type": "execute_result"
    }
   ],
   "source": [
    "dfX = pd.DataFrame(Xstd, columns=['HousingCat','EDUCbin','CIHISPEED','TRANTIME','DrinkingWater','AirQuality','EarlyEd','ProspNeigh','HHWT','HHINCOME','RACE','AGE','SEX','COUNTYFIP','HISPAN'])\n",
    "dfX.describe()"
   ]
  },
  {
   "cell_type": "code",
   "execution_count": 29,
   "id": "chubby-month",
   "metadata": {},
   "outputs": [
    {
     "data": {
      "text/html": [
       "<div>\n",
       "<style scoped>\n",
       "    .dataframe tbody tr th:only-of-type {\n",
       "        vertical-align: middle;\n",
       "    }\n",
       "\n",
       "    .dataframe tbody tr th {\n",
       "        vertical-align: top;\n",
       "    }\n",
       "\n",
       "    .dataframe thead th {\n",
       "        text-align: right;\n",
       "    }\n",
       "</style>\n",
       "<table border=\"1\" class=\"dataframe\">\n",
       "  <thead>\n",
       "    <tr style=\"text-align: right;\">\n",
       "      <th></th>\n",
       "      <th>HousingCat</th>\n",
       "      <th>EDUCbin</th>\n",
       "      <th>CIHISPEED</th>\n",
       "      <th>TRANTIME</th>\n",
       "      <th>DrinkingWater</th>\n",
       "      <th>AirQuality</th>\n",
       "      <th>EarlyEd</th>\n",
       "      <th>ProspNeigh</th>\n",
       "    </tr>\n",
       "  </thead>\n",
       "  <tbody>\n",
       "    <tr>\n",
       "      <th>0</th>\n",
       "      <td>-0.659837</td>\n",
       "      <td>1.064369</td>\n",
       "      <td>-0.402096</td>\n",
       "      <td>-0.333065</td>\n",
       "      <td>0.285403</td>\n",
       "      <td>0.288745</td>\n",
       "      <td>0.465405</td>\n",
       "      <td>0.689651</td>\n",
       "    </tr>\n",
       "    <tr>\n",
       "      <th>1</th>\n",
       "      <td>-0.659837</td>\n",
       "      <td>-0.939523</td>\n",
       "      <td>-0.402096</td>\n",
       "      <td>-0.747987</td>\n",
       "      <td>0.285403</td>\n",
       "      <td>0.288745</td>\n",
       "      <td>0.465405</td>\n",
       "      <td>0.689651</td>\n",
       "    </tr>\n",
       "    <tr>\n",
       "      <th>2</th>\n",
       "      <td>0.672556</td>\n",
       "      <td>1.064369</td>\n",
       "      <td>-0.402096</td>\n",
       "      <td>0.081856</td>\n",
       "      <td>0.285403</td>\n",
       "      <td>0.288745</td>\n",
       "      <td>0.465405</td>\n",
       "      <td>0.689651</td>\n",
       "    </tr>\n",
       "    <tr>\n",
       "      <th>3</th>\n",
       "      <td>0.672556</td>\n",
       "      <td>-0.939523</td>\n",
       "      <td>-0.402096</td>\n",
       "      <td>0.289317</td>\n",
       "      <td>0.285403</td>\n",
       "      <td>0.288745</td>\n",
       "      <td>0.465405</td>\n",
       "      <td>0.689651</td>\n",
       "    </tr>\n",
       "    <tr>\n",
       "      <th>4</th>\n",
       "      <td>0.672556</td>\n",
       "      <td>-0.939523</td>\n",
       "      <td>-0.402096</td>\n",
       "      <td>-0.747987</td>\n",
       "      <td>0.285403</td>\n",
       "      <td>0.288745</td>\n",
       "      <td>0.465405</td>\n",
       "      <td>0.689651</td>\n",
       "    </tr>\n",
       "    <tr>\n",
       "      <th>...</th>\n",
       "      <td>...</td>\n",
       "      <td>...</td>\n",
       "      <td>...</td>\n",
       "      <td>...</td>\n",
       "      <td>...</td>\n",
       "      <td>...</td>\n",
       "      <td>...</td>\n",
       "      <td>...</td>\n",
       "    </tr>\n",
       "    <tr>\n",
       "      <th>1180780</th>\n",
       "      <td>0.672556</td>\n",
       "      <td>-0.939523</td>\n",
       "      <td>2.486969</td>\n",
       "      <td>-0.747987</td>\n",
       "      <td>-5.293388</td>\n",
       "      <td>0.778416</td>\n",
       "      <td>-2.254314</td>\n",
       "      <td>-3.568699</td>\n",
       "    </tr>\n",
       "    <tr>\n",
       "      <th>1180781</th>\n",
       "      <td>0.672556</td>\n",
       "      <td>1.064369</td>\n",
       "      <td>-0.402096</td>\n",
       "      <td>0.081856</td>\n",
       "      <td>-5.293388</td>\n",
       "      <td>0.778416</td>\n",
       "      <td>-2.254314</td>\n",
       "      <td>-3.568699</td>\n",
       "    </tr>\n",
       "    <tr>\n",
       "      <th>1180782</th>\n",
       "      <td>0.672556</td>\n",
       "      <td>1.064369</td>\n",
       "      <td>-0.402096</td>\n",
       "      <td>0.289317</td>\n",
       "      <td>-5.293388</td>\n",
       "      <td>0.778416</td>\n",
       "      <td>-2.254314</td>\n",
       "      <td>-3.568699</td>\n",
       "    </tr>\n",
       "    <tr>\n",
       "      <th>1180783</th>\n",
       "      <td>0.672556</td>\n",
       "      <td>1.064369</td>\n",
       "      <td>-0.402096</td>\n",
       "      <td>-0.333065</td>\n",
       "      <td>-5.293388</td>\n",
       "      <td>0.778416</td>\n",
       "      <td>-2.254314</td>\n",
       "      <td>-3.568699</td>\n",
       "    </tr>\n",
       "    <tr>\n",
       "      <th>1180784</th>\n",
       "      <td>0.672556</td>\n",
       "      <td>1.064369</td>\n",
       "      <td>-0.402096</td>\n",
       "      <td>-0.333065</td>\n",
       "      <td>-5.293388</td>\n",
       "      <td>0.778416</td>\n",
       "      <td>-2.254314</td>\n",
       "      <td>-3.568699</td>\n",
       "    </tr>\n",
       "  </tbody>\n",
       "</table>\n",
       "<p>1180785 rows × 8 columns</p>\n",
       "</div>"
      ],
      "text/plain": [
       "         HousingCat   EDUCbin  CIHISPEED  TRANTIME  DrinkingWater  AirQuality  \\\n",
       "0         -0.659837  1.064369  -0.402096 -0.333065       0.285403    0.288745   \n",
       "1         -0.659837 -0.939523  -0.402096 -0.747987       0.285403    0.288745   \n",
       "2          0.672556  1.064369  -0.402096  0.081856       0.285403    0.288745   \n",
       "3          0.672556 -0.939523  -0.402096  0.289317       0.285403    0.288745   \n",
       "4          0.672556 -0.939523  -0.402096 -0.747987       0.285403    0.288745   \n",
       "...             ...       ...        ...       ...            ...         ...   \n",
       "1180780    0.672556 -0.939523   2.486969 -0.747987      -5.293388    0.778416   \n",
       "1180781    0.672556  1.064369  -0.402096  0.081856      -5.293388    0.778416   \n",
       "1180782    0.672556  1.064369  -0.402096  0.289317      -5.293388    0.778416   \n",
       "1180783    0.672556  1.064369  -0.402096 -0.333065      -5.293388    0.778416   \n",
       "1180784    0.672556  1.064369  -0.402096 -0.333065      -5.293388    0.778416   \n",
       "\n",
       "          EarlyEd  ProspNeigh  \n",
       "0        0.465405    0.689651  \n",
       "1        0.465405    0.689651  \n",
       "2        0.465405    0.689651  \n",
       "3        0.465405    0.689651  \n",
       "4        0.465405    0.689651  \n",
       "...           ...         ...  \n",
       "1180780 -2.254314   -3.568699  \n",
       "1180781 -2.254314   -3.568699  \n",
       "1180782 -2.254314   -3.568699  \n",
       "1180783 -2.254314   -3.568699  \n",
       "1180784 -2.254314   -3.568699  \n",
       "\n",
       "[1180785 rows x 8 columns]"
      ]
     },
     "execution_count": 29,
     "metadata": {},
     "output_type": "execute_result"
    }
   ],
   "source": [
    "dfX.iloc[:,0:8]"
   ]
  },
  {
   "cell_type": "markdown",
   "id": "associate-carpet",
   "metadata": {},
   "source": [
    "## Silhouette score:"
   ]
  },
  {
   "cell_type": "code",
   "execution_count": 30,
   "id": "photographic-boards",
   "metadata": {},
   "outputs": [
    {
     "name": "stdout",
     "output_type": "stream",
     "text": [
      "For n_clusters = 4 the average silhouette_score is: 0.19729886914369107\n",
      "For n_clusters = 5 the average silhouette_score is: 0.2273076713636783\n",
      "For n_clusters = 6 the average silhouette_score is: 0.23759353441115671\n",
      "For n_clusters = 7 the average silhouette_score is: 0.24135837613883027\n",
      "For n_clusters = 8 the average silhouette_score is: 0.23559136476045828\n"
     ]
    }
   ],
   "source": [
    "for i in range(4,9):\n",
    "    km = KMeans(n_clusters = i, init = 'k-means++', random_state = 42)\n",
    "    cluster_labels = km.fit_predict(dfX.iloc[:,0:8])\n",
    "    silhouette_avg = silhouette_score(dfX.iloc[:,0:8], cluster_labels, metric='euclidean',sample_size = 10000, random_state=None)\n",
    "    print('For n_clusters = {} the average silhouette_score is: {}'.format(i, silhouette_avg))"
   ]
  },
  {
   "cell_type": "markdown",
   "id": "worthy-botswana",
   "metadata": {},
   "source": [
    "## Clustering"
   ]
  },
  {
   "cell_type": "code",
   "execution_count": 31,
   "id": "dominican-elephant",
   "metadata": {},
   "outputs": [
    {
     "name": "stdout",
     "output_type": "stream",
     "text": [
      "[5 3 5 ... 4 4 4]\n"
     ]
    }
   ],
   "source": [
    "kmeans = KMeans(n_clusters = 7, init = 'k-means++', random_state = 42)\n",
    "kmeans.fit(dfX.iloc[:,0:8])\n",
    "print(kmeans.labels_)"
   ]
  },
  {
   "cell_type": "code",
   "execution_count": 32,
   "id": "competent-updating",
   "metadata": {},
   "outputs": [
    {
     "data": {
      "text/plain": [
       "array([[  1.,   1.,  10., ...,   1.,  59.,   1.],\n",
       "       [  1.,   0.,  10., ...,   2.,  59.,   1.],\n",
       "       [  2.,   1.,  10., ...,   2.,  59.,   0.],\n",
       "       ...,\n",
       "       [  2.,   1.,  10., ...,   1., 107.,   0.],\n",
       "       [  2.,   1.,  10., ...,   2., 107.,   0.],\n",
       "       [  2.,   1.,  10., ...,   1., 107.,   0.]])"
      ]
     },
     "execution_count": 32,
     "metadata": {},
     "output_type": "execute_result"
    }
   ],
   "source": [
    "Xfin = scaler.inverse_transform(dfX)\n",
    "Xfin"
   ]
  },
  {
   "cell_type": "code",
   "execution_count": 33,
   "id": "faced-authorization",
   "metadata": {},
   "outputs": [
    {
     "data": {
      "text/html": [
       "<div>\n",
       "<style scoped>\n",
       "    .dataframe tbody tr th:only-of-type {\n",
       "        vertical-align: middle;\n",
       "    }\n",
       "\n",
       "    .dataframe tbody tr th {\n",
       "        vertical-align: top;\n",
       "    }\n",
       "\n",
       "    .dataframe thead th {\n",
       "        text-align: right;\n",
       "    }\n",
       "</style>\n",
       "<table border=\"1\" class=\"dataframe\">\n",
       "  <thead>\n",
       "    <tr style=\"text-align: right;\">\n",
       "      <th></th>\n",
       "      <th>HousingCat</th>\n",
       "      <th>EDUCbin</th>\n",
       "      <th>CIHISPEED</th>\n",
       "      <th>TRANTIME</th>\n",
       "      <th>DrinkingWater</th>\n",
       "      <th>AirQuality</th>\n",
       "      <th>EarlyEd</th>\n",
       "      <th>ProspNeigh</th>\n",
       "      <th>HHWT</th>\n",
       "      <th>HHINCOME</th>\n",
       "      <th>RACE</th>\n",
       "      <th>AGE</th>\n",
       "      <th>SEX</th>\n",
       "      <th>COUNTYFIP</th>\n",
       "      <th>HISPAN</th>\n",
       "    </tr>\n",
       "  </thead>\n",
       "  <tbody>\n",
       "    <tr>\n",
       "      <th>count</th>\n",
       "      <td>1.180785e+06</td>\n",
       "      <td>1.180785e+06</td>\n",
       "      <td>1.180785e+06</td>\n",
       "      <td>1.180785e+06</td>\n",
       "      <td>1.180785e+06</td>\n",
       "      <td>1.180785e+06</td>\n",
       "      <td>1.180785e+06</td>\n",
       "      <td>1.180785e+06</td>\n",
       "      <td>1.180785e+06</td>\n",
       "      <td>1.180785e+06</td>\n",
       "      <td>1.180785e+06</td>\n",
       "      <td>1.180785e+06</td>\n",
       "      <td>1.180785e+06</td>\n",
       "      <td>1.180785e+06</td>\n",
       "      <td>1.180785e+06</td>\n",
       "    </tr>\n",
       "    <tr>\n",
       "      <th>mean</th>\n",
       "      <td>1.495227e+00</td>\n",
       "      <td>4.688491e-01</td>\n",
       "      <td>1.139179e+01</td>\n",
       "      <td>1.802718e+01</td>\n",
       "      <td>9.943121e-01</td>\n",
       "      <td>3.523099e+01</td>\n",
       "      <td>5.149841e-01</td>\n",
       "      <td>8.171870e-01</td>\n",
       "      <td>1.920797e+01</td>\n",
       "      <td>1.304553e+05</td>\n",
       "      <td>2.707418e+00</td>\n",
       "      <td>4.894611e+01</td>\n",
       "      <td>1.519320e+00</td>\n",
       "      <td>5.555397e+01</td>\n",
       "      <td>4.579064e-01</td>\n",
       "    </tr>\n",
       "    <tr>\n",
       "      <th>std</th>\n",
       "      <td>7.505296e-01</td>\n",
       "      <td>4.990289e-01</td>\n",
       "      <td>3.461329e+00</td>\n",
       "      <td>2.410094e+01</td>\n",
       "      <td>1.992936e-02</td>\n",
       "      <td>6.126561e+00</td>\n",
       "      <td>8.383225e-02</td>\n",
       "      <td>1.154902e-01</td>\n",
       "      <td>1.332511e+01</td>\n",
       "      <td>1.262577e+05</td>\n",
       "      <td>2.489673e+00</td>\n",
       "      <td>1.712028e+01</td>\n",
       "      <td>4.996268e-01</td>\n",
       "      <td>2.663707e+01</td>\n",
       "      <td>9.457240e-01</td>\n",
       "    </tr>\n",
       "    <tr>\n",
       "      <th>min</th>\n",
       "      <td>0.000000e+00</td>\n",
       "      <td>0.000000e+00</td>\n",
       "      <td>1.000000e+01</td>\n",
       "      <td>0.000000e+00</td>\n",
       "      <td>8.888183e-01</td>\n",
       "      <td>1.700000e+01</td>\n",
       "      <td>3.260000e-01</td>\n",
       "      <td>3.646189e-01</td>\n",
       "      <td>1.000000e+00</td>\n",
       "      <td>-1.575500e+04</td>\n",
       "      <td>1.000000e+00</td>\n",
       "      <td>2.100000e+01</td>\n",
       "      <td>1.000000e+00</td>\n",
       "      <td>1.000000e+00</td>\n",
       "      <td>0.000000e+00</td>\n",
       "    </tr>\n",
       "    <tr>\n",
       "      <th>25%</th>\n",
       "      <td>1.000000e+00</td>\n",
       "      <td>0.000000e+00</td>\n",
       "      <td>1.000000e+01</td>\n",
       "      <td>0.000000e+00</td>\n",
       "      <td>9.996217e-01</td>\n",
       "      <td>3.000000e+01</td>\n",
       "      <td>4.570000e-01</td>\n",
       "      <td>7.592451e-01</td>\n",
       "      <td>1.200000e+01</td>\n",
       "      <td>5.400000e+04</td>\n",
       "      <td>1.000000e+00</td>\n",
       "      <td>3.400000e+01</td>\n",
       "      <td>1.000000e+00</td>\n",
       "      <td>3.700000e+01</td>\n",
       "      <td>0.000000e+00</td>\n",
       "    </tr>\n",
       "    <tr>\n",
       "      <th>50%</th>\n",
       "      <td>2.000000e+00</td>\n",
       "      <td>0.000000e+00</td>\n",
       "      <td>1.000000e+01</td>\n",
       "      <td>1.000000e+01</td>\n",
       "      <td>9.999295e-01</td>\n",
       "      <td>3.700000e+01</td>\n",
       "      <td>5.450000e-01</td>\n",
       "      <td>8.183911e-01</td>\n",
       "      <td>1.500000e+01</td>\n",
       "      <td>9.800000e+04</td>\n",
       "      <td>1.000000e+00</td>\n",
       "      <td>4.800000e+01</td>\n",
       "      <td>2.000000e+00</td>\n",
       "      <td>5.900000e+01</td>\n",
       "      <td>0.000000e+00</td>\n",
       "    </tr>\n",
       "    <tr>\n",
       "      <th>75%</th>\n",
       "      <td>2.000000e+00</td>\n",
       "      <td>1.000000e+00</td>\n",
       "      <td>1.000000e+01</td>\n",
       "      <td>3.000000e+01</td>\n",
       "      <td>1.000000e+00</td>\n",
       "      <td>4.000000e+01</td>\n",
       "      <td>5.540000e-01</td>\n",
       "      <td>8.968348e-01</td>\n",
       "      <td>2.300000e+01</td>\n",
       "      <td>1.628990e+05</td>\n",
       "      <td>6.000000e+00</td>\n",
       "      <td>6.200000e+01</td>\n",
       "      <td>2.000000e+00</td>\n",
       "      <td>7.300000e+01</td>\n",
       "      <td>1.000000e+00</td>\n",
       "    </tr>\n",
       "    <tr>\n",
       "      <th>max</th>\n",
       "      <td>2.000000e+00</td>\n",
       "      <td>1.000000e+00</td>\n",
       "      <td>2.000000e+01</td>\n",
       "      <td>1.420000e+02</td>\n",
       "      <td>1.000000e+00</td>\n",
       "      <td>4.300000e+01</td>\n",
       "      <td>7.440000e-01</td>\n",
       "      <td>9.960382e-01</td>\n",
       "      <td>2.670000e+02</td>\n",
       "      <td>2.626744e+06</td>\n",
       "      <td>9.000000e+00</td>\n",
       "      <td>9.400000e+01</td>\n",
       "      <td>2.000000e+00</td>\n",
       "      <td>1.130000e+02</td>\n",
       "      <td>4.000000e+00</td>\n",
       "    </tr>\n",
       "  </tbody>\n",
       "</table>\n",
       "</div>"
      ],
      "text/plain": [
       "         HousingCat       EDUCbin     CIHISPEED      TRANTIME  DrinkingWater  \\\n",
       "count  1.180785e+06  1.180785e+06  1.180785e+06  1.180785e+06   1.180785e+06   \n",
       "mean   1.495227e+00  4.688491e-01  1.139179e+01  1.802718e+01   9.943121e-01   \n",
       "std    7.505296e-01  4.990289e-01  3.461329e+00  2.410094e+01   1.992936e-02   \n",
       "min    0.000000e+00  0.000000e+00  1.000000e+01  0.000000e+00   8.888183e-01   \n",
       "25%    1.000000e+00  0.000000e+00  1.000000e+01  0.000000e+00   9.996217e-01   \n",
       "50%    2.000000e+00  0.000000e+00  1.000000e+01  1.000000e+01   9.999295e-01   \n",
       "75%    2.000000e+00  1.000000e+00  1.000000e+01  3.000000e+01   1.000000e+00   \n",
       "max    2.000000e+00  1.000000e+00  2.000000e+01  1.420000e+02   1.000000e+00   \n",
       "\n",
       "         AirQuality       EarlyEd    ProspNeigh          HHWT      HHINCOME  \\\n",
       "count  1.180785e+06  1.180785e+06  1.180785e+06  1.180785e+06  1.180785e+06   \n",
       "mean   3.523099e+01  5.149841e-01  8.171870e-01  1.920797e+01  1.304553e+05   \n",
       "std    6.126561e+00  8.383225e-02  1.154902e-01  1.332511e+01  1.262577e+05   \n",
       "min    1.700000e+01  3.260000e-01  3.646189e-01  1.000000e+00 -1.575500e+04   \n",
       "25%    3.000000e+01  4.570000e-01  7.592451e-01  1.200000e+01  5.400000e+04   \n",
       "50%    3.700000e+01  5.450000e-01  8.183911e-01  1.500000e+01  9.800000e+04   \n",
       "75%    4.000000e+01  5.540000e-01  8.968348e-01  2.300000e+01  1.628990e+05   \n",
       "max    4.300000e+01  7.440000e-01  9.960382e-01  2.670000e+02  2.626744e+06   \n",
       "\n",
       "               RACE           AGE           SEX     COUNTYFIP        HISPAN  \n",
       "count  1.180785e+06  1.180785e+06  1.180785e+06  1.180785e+06  1.180785e+06  \n",
       "mean   2.707418e+00  4.894611e+01  1.519320e+00  5.555397e+01  4.579064e-01  \n",
       "std    2.489673e+00  1.712028e+01  4.996268e-01  2.663707e+01  9.457240e-01  \n",
       "min    1.000000e+00  2.100000e+01  1.000000e+00  1.000000e+00  0.000000e+00  \n",
       "25%    1.000000e+00  3.400000e+01  1.000000e+00  3.700000e+01  0.000000e+00  \n",
       "50%    1.000000e+00  4.800000e+01  2.000000e+00  5.900000e+01  0.000000e+00  \n",
       "75%    6.000000e+00  6.200000e+01  2.000000e+00  7.300000e+01  1.000000e+00  \n",
       "max    9.000000e+00  9.400000e+01  2.000000e+00  1.130000e+02  4.000000e+00  "
      ]
     },
     "execution_count": 33,
     "metadata": {},
     "output_type": "execute_result"
    }
   ],
   "source": [
    "dfXfin = pd.DataFrame(Xfin, columns=['HousingCat','EDUCbin','CIHISPEED','TRANTIME','DrinkingWater','AirQuality','EarlyEd','ProspNeigh','HHWT','HHINCOME','RACE','AGE','SEX','COUNTYFIP','HISPAN'])\n",
    "dfXfin.describe()"
   ]
  },
  {
   "cell_type": "code",
   "execution_count": 35,
   "id": "olympic-content",
   "metadata": {},
   "outputs": [
    {
     "data": {
      "text/plain": [
       "22680481.0"
      ]
     },
     "execution_count": 35,
     "metadata": {},
     "output_type": "execute_result"
    }
   ],
   "source": [
    "totalHHWT=dfXfin.HHWT.sum()\n",
    "totalHHWT"
   ]
  },
  {
   "cell_type": "code",
   "execution_count": 36,
   "id": "chubby-liechtenstein",
   "metadata": {},
   "outputs": [
    {
     "data": {
      "text/html": [
       "<div>\n",
       "<style scoped>\n",
       "    .dataframe tbody tr th:only-of-type {\n",
       "        vertical-align: middle;\n",
       "    }\n",
       "\n",
       "    .dataframe tbody tr th {\n",
       "        vertical-align: top;\n",
       "    }\n",
       "\n",
       "    .dataframe thead th {\n",
       "        text-align: right;\n",
       "    }\n",
       "</style>\n",
       "<table border=\"1\" class=\"dataframe\">\n",
       "  <thead>\n",
       "    <tr style=\"text-align: right;\">\n",
       "      <th></th>\n",
       "      <th>HousingCat</th>\n",
       "      <th>EDUCbin</th>\n",
       "      <th>CIHISPEED</th>\n",
       "      <th>TRANTIME</th>\n",
       "      <th>DrinkingWater</th>\n",
       "      <th>AirQuality</th>\n",
       "      <th>EarlyEd</th>\n",
       "      <th>ProspNeigh</th>\n",
       "      <th>HHWT</th>\n",
       "      <th>HHINCOME</th>\n",
       "      <th>RACE</th>\n",
       "      <th>AGE</th>\n",
       "      <th>SEX</th>\n",
       "      <th>COUNTYFIP</th>\n",
       "      <th>HISPAN</th>\n",
       "    </tr>\n",
       "    <tr>\n",
       "      <th>labels</th>\n",
       "      <th></th>\n",
       "      <th></th>\n",
       "      <th></th>\n",
       "      <th></th>\n",
       "      <th></th>\n",
       "      <th></th>\n",
       "      <th></th>\n",
       "      <th></th>\n",
       "      <th></th>\n",
       "      <th></th>\n",
       "      <th></th>\n",
       "      <th></th>\n",
       "      <th></th>\n",
       "      <th></th>\n",
       "      <th></th>\n",
       "    </tr>\n",
       "  </thead>\n",
       "  <tbody>\n",
       "    <tr>\n",
       "      <th>0</th>\n",
       "      <td>1.335146</td>\n",
       "      <td>0.312078</td>\n",
       "      <td>20.000000</td>\n",
       "      <td>14.168001</td>\n",
       "      <td>0.998420</td>\n",
       "      <td>35.990576</td>\n",
       "      <td>0.509800</td>\n",
       "      <td>0.807171</td>\n",
       "      <td>19.479492</td>\n",
       "      <td>93838.966758</td>\n",
       "      <td>2.862472</td>\n",
       "      <td>50.541352</td>\n",
       "      <td>1.536885</td>\n",
       "      <td>53.423770</td>\n",
       "      <td>0.622599</td>\n",
       "    </tr>\n",
       "    <tr>\n",
       "      <th>1</th>\n",
       "      <td>0.000000</td>\n",
       "      <td>0.327705</td>\n",
       "      <td>10.000000</td>\n",
       "      <td>13.590036</td>\n",
       "      <td>0.998949</td>\n",
       "      <td>36.728475</td>\n",
       "      <td>0.515279</td>\n",
       "      <td>0.807001</td>\n",
       "      <td>22.410544</td>\n",
       "      <td>43304.250911</td>\n",
       "      <td>2.989104</td>\n",
       "      <td>42.609792</td>\n",
       "      <td>1.548100</td>\n",
       "      <td>51.718939</td>\n",
       "      <td>0.614850</td>\n",
       "    </tr>\n",
       "    <tr>\n",
       "      <th>2</th>\n",
       "      <td>1.644981</td>\n",
       "      <td>0.523316</td>\n",
       "      <td>10.613623</td>\n",
       "      <td>84.505099</td>\n",
       "      <td>0.997525</td>\n",
       "      <td>36.648086</td>\n",
       "      <td>0.506324</td>\n",
       "      <td>0.813083</td>\n",
       "      <td>19.067101</td>\n",
       "      <td>153613.361479</td>\n",
       "      <td>2.886149</td>\n",
       "      <td>44.340127</td>\n",
       "      <td>1.385361</td>\n",
       "      <td>51.788852</td>\n",
       "      <td>0.538017</td>\n",
       "    </tr>\n",
       "    <tr>\n",
       "      <th>3</th>\n",
       "      <td>1.773247</td>\n",
       "      <td>0.000000</td>\n",
       "      <td>10.000000</td>\n",
       "      <td>11.703027</td>\n",
       "      <td>0.998370</td>\n",
       "      <td>37.659320</td>\n",
       "      <td>0.492169</td>\n",
       "      <td>0.793149</td>\n",
       "      <td>18.701277</td>\n",
       "      <td>112202.688141</td>\n",
       "      <td>2.711595</td>\n",
       "      <td>50.576031</td>\n",
       "      <td>1.521645</td>\n",
       "      <td>56.836964</td>\n",
       "      <td>0.607098</td>\n",
       "    </tr>\n",
       "    <tr>\n",
       "      <th>4</th>\n",
       "      <td>1.536120</td>\n",
       "      <td>0.306702</td>\n",
       "      <td>12.456830</td>\n",
       "      <td>12.724906</td>\n",
       "      <td>0.913946</td>\n",
       "      <td>36.858959</td>\n",
       "      <td>0.379997</td>\n",
       "      <td>0.626347</td>\n",
       "      <td>21.140929</td>\n",
       "      <td>95667.493610</td>\n",
       "      <td>2.270479</td>\n",
       "      <td>48.537504</td>\n",
       "      <td>1.525043</td>\n",
       "      <td>62.201407</td>\n",
       "      <td>0.498798</td>\n",
       "    </tr>\n",
       "    <tr>\n",
       "      <th>5</th>\n",
       "      <td>1.803420</td>\n",
       "      <td>1.000000</td>\n",
       "      <td>10.000000</td>\n",
       "      <td>14.054010</td>\n",
       "      <td>0.998923</td>\n",
       "      <td>37.400179</td>\n",
       "      <td>0.506441</td>\n",
       "      <td>0.801554</td>\n",
       "      <td>17.866892</td>\n",
       "      <td>166618.212767</td>\n",
       "      <td>2.420989</td>\n",
       "      <td>50.105405</td>\n",
       "      <td>1.528624</td>\n",
       "      <td>56.677722</td>\n",
       "      <td>0.263557</td>\n",
       "    </tr>\n",
       "    <tr>\n",
       "      <th>6</th>\n",
       "      <td>1.642037</td>\n",
       "      <td>0.668558</td>\n",
       "      <td>10.163844</td>\n",
       "      <td>17.484867</td>\n",
       "      <td>0.999969</td>\n",
       "      <td>26.761025</td>\n",
       "      <td>0.603543</td>\n",
       "      <td>0.940831</td>\n",
       "      <td>19.028495</td>\n",
       "      <td>188576.072549</td>\n",
       "      <td>2.868255</td>\n",
       "      <td>49.457310</td>\n",
       "      <td>1.516647</td>\n",
       "      <td>55.242457</td>\n",
       "      <td>0.256620</td>\n",
       "    </tr>\n",
       "  </tbody>\n",
       "</table>\n",
       "</div>"
      ],
      "text/plain": [
       "        HousingCat   EDUCbin  CIHISPEED   TRANTIME  DrinkingWater  AirQuality  \\\n",
       "labels                                                                          \n",
       "0         1.335146  0.312078  20.000000  14.168001       0.998420   35.990576   \n",
       "1         0.000000  0.327705  10.000000  13.590036       0.998949   36.728475   \n",
       "2         1.644981  0.523316  10.613623  84.505099       0.997525   36.648086   \n",
       "3         1.773247  0.000000  10.000000  11.703027       0.998370   37.659320   \n",
       "4         1.536120  0.306702  12.456830  12.724906       0.913946   36.858959   \n",
       "5         1.803420  1.000000  10.000000  14.054010       0.998923   37.400179   \n",
       "6         1.642037  0.668558  10.163844  17.484867       0.999969   26.761025   \n",
       "\n",
       "         EarlyEd  ProspNeigh       HHWT       HHINCOME      RACE        AGE  \\\n",
       "labels                                                                        \n",
       "0       0.509800    0.807171  19.479492   93838.966758  2.862472  50.541352   \n",
       "1       0.515279    0.807001  22.410544   43304.250911  2.989104  42.609792   \n",
       "2       0.506324    0.813083  19.067101  153613.361479  2.886149  44.340127   \n",
       "3       0.492169    0.793149  18.701277  112202.688141  2.711595  50.576031   \n",
       "4       0.379997    0.626347  21.140929   95667.493610  2.270479  48.537504   \n",
       "5       0.506441    0.801554  17.866892  166618.212767  2.420989  50.105405   \n",
       "6       0.603543    0.940831  19.028495  188576.072549  2.868255  49.457310   \n",
       "\n",
       "             SEX  COUNTYFIP    HISPAN  \n",
       "labels                                 \n",
       "0       1.536885  53.423770  0.622599  \n",
       "1       1.548100  51.718939  0.614850  \n",
       "2       1.385361  51.788852  0.538017  \n",
       "3       1.521645  56.836964  0.607098  \n",
       "4       1.525043  62.201407  0.498798  \n",
       "5       1.528624  56.677722  0.263557  \n",
       "6       1.516647  55.242457  0.256620  "
      ]
     },
     "execution_count": 36,
     "metadata": {},
     "output_type": "execute_result"
    }
   ],
   "source": [
    "dfXfin['labels'] = kmeans.labels_\n",
    "cluster_sum = dfXfin.groupby(by = 'labels').mean()\n",
    "cluster_sum.head(7)"
   ]
  },
  {
   "cell_type": "code",
   "execution_count": 37,
   "id": "optimum-design",
   "metadata": {},
   "outputs": [
    {
     "data": {
      "text/html": [
       "<div>\n",
       "<style scoped>\n",
       "    .dataframe tbody tr th:only-of-type {\n",
       "        vertical-align: middle;\n",
       "    }\n",
       "\n",
       "    .dataframe tbody tr th {\n",
       "        vertical-align: top;\n",
       "    }\n",
       "\n",
       "    .dataframe thead th {\n",
       "        text-align: right;\n",
       "    }\n",
       "</style>\n",
       "<table border=\"1\" class=\"dataframe\">\n",
       "  <thead>\n",
       "    <tr style=\"text-align: right;\">\n",
       "      <th></th>\n",
       "      <th>HousingCat</th>\n",
       "      <th>EDUCbin</th>\n",
       "      <th>CIHISPEED</th>\n",
       "      <th>TRANTIME</th>\n",
       "      <th>DrinkingWater</th>\n",
       "      <th>AirQuality</th>\n",
       "      <th>EarlyEd</th>\n",
       "      <th>ProspNeigh</th>\n",
       "      <th>HHWT</th>\n",
       "      <th>HHINCOME</th>\n",
       "      <th>RACE</th>\n",
       "      <th>AGE</th>\n",
       "      <th>SEX</th>\n",
       "      <th>COUNTYFIP</th>\n",
       "      <th>HISPAN</th>\n",
       "    </tr>\n",
       "    <tr>\n",
       "      <th>labels</th>\n",
       "      <th></th>\n",
       "      <th></th>\n",
       "      <th></th>\n",
       "      <th></th>\n",
       "      <th></th>\n",
       "      <th></th>\n",
       "      <th></th>\n",
       "      <th></th>\n",
       "      <th></th>\n",
       "      <th></th>\n",
       "      <th></th>\n",
       "      <th></th>\n",
       "      <th></th>\n",
       "      <th></th>\n",
       "      <th></th>\n",
       "    </tr>\n",
       "  </thead>\n",
       "  <tbody>\n",
       "    <tr>\n",
       "      <th>0</th>\n",
       "      <td>2.0</td>\n",
       "      <td>0.0</td>\n",
       "      <td>20.0</td>\n",
       "      <td>5.0</td>\n",
       "      <td>0.999908</td>\n",
       "      <td>37.0</td>\n",
       "      <td>0.545</td>\n",
       "      <td>0.759245</td>\n",
       "      <td>15.0</td>\n",
       "      <td>69200.0</td>\n",
       "      <td>1.0</td>\n",
       "      <td>51.0</td>\n",
       "      <td>2.0</td>\n",
       "      <td>59.0</td>\n",
       "      <td>0.0</td>\n",
       "    </tr>\n",
       "    <tr>\n",
       "      <th>1</th>\n",
       "      <td>0.0</td>\n",
       "      <td>0.0</td>\n",
       "      <td>10.0</td>\n",
       "      <td>7.0</td>\n",
       "      <td>0.999710</td>\n",
       "      <td>37.0</td>\n",
       "      <td>0.545</td>\n",
       "      <td>0.759245</td>\n",
       "      <td>17.0</td>\n",
       "      <td>39064.0</td>\n",
       "      <td>1.0</td>\n",
       "      <td>40.0</td>\n",
       "      <td>2.0</td>\n",
       "      <td>37.0</td>\n",
       "      <td>0.0</td>\n",
       "    </tr>\n",
       "    <tr>\n",
       "      <th>2</th>\n",
       "      <td>2.0</td>\n",
       "      <td>1.0</td>\n",
       "      <td>10.0</td>\n",
       "      <td>75.0</td>\n",
       "      <td>0.999622</td>\n",
       "      <td>40.0</td>\n",
       "      <td>0.545</td>\n",
       "      <td>0.782130</td>\n",
       "      <td>15.0</td>\n",
       "      <td>125229.0</td>\n",
       "      <td>1.0</td>\n",
       "      <td>44.0</td>\n",
       "      <td>1.0</td>\n",
       "      <td>55.0</td>\n",
       "      <td>0.0</td>\n",
       "    </tr>\n",
       "    <tr>\n",
       "      <th>3</th>\n",
       "      <td>2.0</td>\n",
       "      <td>0.0</td>\n",
       "      <td>10.0</td>\n",
       "      <td>5.0</td>\n",
       "      <td>0.999622</td>\n",
       "      <td>40.0</td>\n",
       "      <td>0.526</td>\n",
       "      <td>0.759245</td>\n",
       "      <td>14.0</td>\n",
       "      <td>92687.0</td>\n",
       "      <td>1.0</td>\n",
       "      <td>51.0</td>\n",
       "      <td>2.0</td>\n",
       "      <td>59.0</td>\n",
       "      <td>0.0</td>\n",
       "    </tr>\n",
       "    <tr>\n",
       "      <th>4</th>\n",
       "      <td>2.0</td>\n",
       "      <td>0.0</td>\n",
       "      <td>10.0</td>\n",
       "      <td>5.0</td>\n",
       "      <td>0.916609</td>\n",
       "      <td>38.0</td>\n",
       "      <td>0.336</td>\n",
       "      <td>0.548841</td>\n",
       "      <td>16.0</td>\n",
       "      <td>73304.0</td>\n",
       "      <td>1.0</td>\n",
       "      <td>48.0</td>\n",
       "      <td>2.0</td>\n",
       "      <td>47.0</td>\n",
       "      <td>0.0</td>\n",
       "    </tr>\n",
       "    <tr>\n",
       "      <th>5</th>\n",
       "      <td>2.0</td>\n",
       "      <td>1.0</td>\n",
       "      <td>10.0</td>\n",
       "      <td>10.0</td>\n",
       "      <td>0.999930</td>\n",
       "      <td>37.0</td>\n",
       "      <td>0.545</td>\n",
       "      <td>0.759245</td>\n",
       "      <td>14.0</td>\n",
       "      <td>131032.0</td>\n",
       "      <td>1.0</td>\n",
       "      <td>50.0</td>\n",
       "      <td>2.0</td>\n",
       "      <td>59.0</td>\n",
       "      <td>0.0</td>\n",
       "    </tr>\n",
       "    <tr>\n",
       "      <th>6</th>\n",
       "      <td>2.0</td>\n",
       "      <td>1.0</td>\n",
       "      <td>10.0</td>\n",
       "      <td>15.0</td>\n",
       "      <td>1.000000</td>\n",
       "      <td>27.0</td>\n",
       "      <td>0.607</td>\n",
       "      <td>0.958168</td>\n",
       "      <td>15.0</td>\n",
       "      <td>146758.0</td>\n",
       "      <td>1.0</td>\n",
       "      <td>49.0</td>\n",
       "      <td>2.0</td>\n",
       "      <td>75.0</td>\n",
       "      <td>0.0</td>\n",
       "    </tr>\n",
       "  </tbody>\n",
       "</table>\n",
       "</div>"
      ],
      "text/plain": [
       "        HousingCat  EDUCbin  CIHISPEED  TRANTIME  DrinkingWater  AirQuality  \\\n",
       "labels                                                                        \n",
       "0              2.0      0.0       20.0       5.0       0.999908        37.0   \n",
       "1              0.0      0.0       10.0       7.0       0.999710        37.0   \n",
       "2              2.0      1.0       10.0      75.0       0.999622        40.0   \n",
       "3              2.0      0.0       10.0       5.0       0.999622        40.0   \n",
       "4              2.0      0.0       10.0       5.0       0.916609        38.0   \n",
       "5              2.0      1.0       10.0      10.0       0.999930        37.0   \n",
       "6              2.0      1.0       10.0      15.0       1.000000        27.0   \n",
       "\n",
       "        EarlyEd  ProspNeigh  HHWT  HHINCOME  RACE   AGE  SEX  COUNTYFIP  \\\n",
       "labels                                                                    \n",
       "0         0.545    0.759245  15.0   69200.0   1.0  51.0  2.0       59.0   \n",
       "1         0.545    0.759245  17.0   39064.0   1.0  40.0  2.0       37.0   \n",
       "2         0.545    0.782130  15.0  125229.0   1.0  44.0  1.0       55.0   \n",
       "3         0.526    0.759245  14.0   92687.0   1.0  51.0  2.0       59.0   \n",
       "4         0.336    0.548841  16.0   73304.0   1.0  48.0  2.0       47.0   \n",
       "5         0.545    0.759245  14.0  131032.0   1.0  50.0  2.0       59.0   \n",
       "6         0.607    0.958168  15.0  146758.0   1.0  49.0  2.0       75.0   \n",
       "\n",
       "        HISPAN  \n",
       "labels          \n",
       "0          0.0  \n",
       "1          0.0  \n",
       "2          0.0  \n",
       "3          0.0  \n",
       "4          0.0  \n",
       "5          0.0  \n",
       "6          0.0  "
      ]
     },
     "execution_count": 37,
     "metadata": {},
     "output_type": "execute_result"
    }
   ],
   "source": [
    "cluster_sum2 = dfXfin.groupby(by = 'labels').median()\n",
    "cluster_sum2.head(7)"
   ]
  },
  {
   "cell_type": "code",
   "execution_count": 38,
   "id": "lovely-cambodia",
   "metadata": {},
   "outputs": [],
   "source": [
    "clust0 = dfXfin[dfXfin['labels']==0]\n",
    "clust1 = dfXfin[dfXfin['labels']==1]\n",
    "clust2 = dfXfin[dfXfin['labels']==2]\n",
    "clust3 = dfXfin[dfXfin['labels']==3]\n",
    "clust4 = dfXfin[dfXfin['labels']==4]\n",
    "clust5 = dfXfin[dfXfin['labels']==5]\n",
    "clust6 = dfXfin[dfXfin['labels']==6]"
   ]
  },
  {
   "cell_type": "code",
   "execution_count": 39,
   "id": "coated-queens",
   "metadata": {},
   "outputs": [
    {
     "data": {
      "text/plain": [
       "2751225.0"
      ]
     },
     "execution_count": 39,
     "metadata": {},
     "output_type": "execute_result"
    }
   ],
   "source": [
    "clust0.HHWT.sum()"
   ]
  },
  {
   "cell_type": "code",
   "execution_count": 40,
   "id": "steady-membership",
   "metadata": {},
   "outputs": [
    {
     "data": {
      "text/plain": [
       "2817857.0"
      ]
     },
     "execution_count": 40,
     "metadata": {},
     "output_type": "execute_result"
    }
   ],
   "source": [
    "clust1.HHWT.sum()"
   ]
  },
  {
   "cell_type": "code",
   "execution_count": 41,
   "id": "altered-moses",
   "metadata": {},
   "outputs": [
    {
     "data": {
      "text/plain": [
       "1295743.0"
      ]
     },
     "execution_count": 41,
     "metadata": {},
     "output_type": "execute_result"
    }
   ],
   "source": [
    "clust2.HHWT.sum()"
   ]
  },
  {
   "cell_type": "code",
   "execution_count": 42,
   "id": "european-batch",
   "metadata": {},
   "outputs": [
    {
     "data": {
      "text/plain": [
       "5588035.0"
      ]
     },
     "execution_count": 42,
     "metadata": {},
     "output_type": "execute_result"
    }
   ],
   "source": [
    "clust3.HHWT.sum()"
   ]
  },
  {
   "cell_type": "code",
   "execution_count": 43,
   "id": "revised-diesel",
   "metadata": {},
   "outputs": [
    {
     "data": {
      "text/plain": [
       "1328348.0"
      ]
     },
     "execution_count": 43,
     "metadata": {},
     "output_type": "execute_result"
    }
   ],
   "source": [
    "clust4.HHWT.sum()"
   ]
  },
  {
   "cell_type": "code",
   "execution_count": 44,
   "id": "banned-survey",
   "metadata": {},
   "outputs": [
    {
     "data": {
      "text/plain": [
       "4839087.0"
      ]
     },
     "execution_count": 44,
     "metadata": {},
     "output_type": "execute_result"
    }
   ],
   "source": [
    "clust5.HHWT.sum()"
   ]
  },
  {
   "cell_type": "code",
   "execution_count": 45,
   "id": "latin-baptist",
   "metadata": {},
   "outputs": [
    {
     "data": {
      "text/plain": [
       "4060186.0"
      ]
     },
     "execution_count": 45,
     "metadata": {},
     "output_type": "execute_result"
    }
   ],
   "source": [
    "clust6.HHWT.sum()"
   ]
  },
  {
   "cell_type": "code",
   "execution_count": 78,
   "id": "described-point",
   "metadata": {},
   "outputs": [
    {
     "name": "stdout",
     "output_type": "stream",
     "text": [
      "Cluster 0 - 12 % of total\n",
      "Cluster 1 - 12 % of total\n",
      "Cluster 2 - 5 % of total\n",
      "Cluster 3 - 24 % of total\n",
      "Cluster 4 - 5 % of total\n",
      "Cluster 5 - 21 % of total\n",
      "Cluster 6 - 17 % of total\n"
     ]
    }
   ],
   "source": [
    "clust0size=clust0.HHWT.sum()/totalHHWT\n",
    "clust1size=clust1.HHWT.sum()/totalHHWT\n",
    "clust2size=clust2.HHWT.sum()/totalHHWT\n",
    "clust3size=clust3.HHWT.sum()/totalHHWT\n",
    "clust4size=clust4.HHWT.sum()/totalHHWT\n",
    "clust5size=clust5.HHWT.sum()/totalHHWT\n",
    "clust6size=clust6.HHWT.sum()/totalHHWT\n",
    "i=0\n",
    "for x in [clust0size,clust1size,clust2size,clust3size,clust4size,clust5size,clust6size]:\n",
    "    print(\"Cluster\",i,\"-\",(x*100).astype(int),\"% of total\")\n",
    "    i+=1"
   ]
  },
  {
   "cell_type": "markdown",
   "id": "baking-discipline",
   "metadata": {},
   "source": [
    "## Incorporate Household Weight"
   ]
  },
  {
   "cell_type": "code",
   "execution_count": 51,
   "id": "protective-values",
   "metadata": {},
   "outputs": [],
   "source": [
    "hhTotal0=clust0['HHWT'].sum()\n",
    "hhTotal1=clust1['HHWT'].sum()\n",
    "hhTotal2=clust2['HHWT'].sum()\n",
    "hhTotal3=clust3['HHWT'].sum()\n",
    "hhTotal4=clust4['HHWT'].sum()\n",
    "hhTotal5=clust5['HHWT'].sum()\n",
    "hhTotal6=clust6['HHWT'].sum()"
   ]
  },
  {
   "cell_type": "code",
   "execution_count": 53,
   "id": "confidential-virginia",
   "metadata": {},
   "outputs": [],
   "source": [
    "clust0['RowWt'] = clust0['HHWT']/hhTotal0\n",
    "clust1['RowWt'] = clust1['HHWT']/hhTotal1\n",
    "clust2['RowWt'] = clust2['HHWT']/hhTotal2\n",
    "clust3['RowWt'] = clust3['HHWT']/hhTotal3\n",
    "clust4['RowWt'] = clust4['HHWT']/hhTotal4\n",
    "clust5['RowWt'] = clust5['HHWT']/hhTotal5\n",
    "clust6['RowWt'] = clust6['HHWT']/hhTotal6"
   ]
  },
  {
   "cell_type": "markdown",
   "id": "scientific-trademark",
   "metadata": {},
   "source": [
    "## Housing Category"
   ]
  },
  {
   "cell_type": "code",
   "execution_count": 54,
   "id": "unsigned-north",
   "metadata": {},
   "outputs": [
    {
     "data": {
      "text/html": [
       "<div>\n",
       "<style scoped>\n",
       "    .dataframe tbody tr th:only-of-type {\n",
       "        vertical-align: middle;\n",
       "    }\n",
       "\n",
       "    .dataframe tbody tr th {\n",
       "        vertical-align: top;\n",
       "    }\n",
       "\n",
       "    .dataframe thead th {\n",
       "        text-align: right;\n",
       "    }\n",
       "</style>\n",
       "<table border=\"1\" class=\"dataframe\">\n",
       "  <thead>\n",
       "    <tr style=\"text-align: right;\">\n",
       "      <th></th>\n",
       "      <th>&gt;=30% Income on Rent</th>\n",
       "      <th>&lt;30% Income on Rent</th>\n",
       "      <th>Owner</th>\n",
       "    </tr>\n",
       "  </thead>\n",
       "  <tbody>\n",
       "    <tr>\n",
       "      <th>Cluster 0</th>\n",
       "      <td>0.274495</td>\n",
       "      <td>0.227262</td>\n",
       "      <td>0.498243</td>\n",
       "    </tr>\n",
       "    <tr>\n",
       "      <th>Cluster 1</th>\n",
       "      <td>1.000000</td>\n",
       "      <td>0.000000</td>\n",
       "      <td>0.000000</td>\n",
       "    </tr>\n",
       "    <tr>\n",
       "      <th>Cluster 2</th>\n",
       "      <td>0.074451</td>\n",
       "      <td>0.255318</td>\n",
       "      <td>0.670231</td>\n",
       "    </tr>\n",
       "    <tr>\n",
       "      <th>Cluster 3</th>\n",
       "      <td>0.000000</td>\n",
       "      <td>0.269299</td>\n",
       "      <td>0.730701</td>\n",
       "    </tr>\n",
       "    <tr>\n",
       "      <th>Cluster 4</th>\n",
       "      <td>0.160045</td>\n",
       "      <td>0.211253</td>\n",
       "      <td>0.628701</td>\n",
       "    </tr>\n",
       "    <tr>\n",
       "      <th>Cluster 5</th>\n",
       "      <td>0.000000</td>\n",
       "      <td>0.231484</td>\n",
       "      <td>0.768516</td>\n",
       "    </tr>\n",
       "    <tr>\n",
       "      <th>Cluster 6</th>\n",
       "      <td>0.076914</td>\n",
       "      <td>0.265761</td>\n",
       "      <td>0.657325</td>\n",
       "    </tr>\n",
       "  </tbody>\n",
       "</table>\n",
       "</div>"
      ],
      "text/plain": [
       "           >=30% Income on Rent  <30% Income on Rent     Owner\n",
       "Cluster 0              0.274495             0.227262  0.498243\n",
       "Cluster 1              1.000000             0.000000  0.000000\n",
       "Cluster 2              0.074451             0.255318  0.670231\n",
       "Cluster 3              0.000000             0.269299  0.730701\n",
       "Cluster 4              0.160045             0.211253  0.628701\n",
       "Cluster 5              0.000000             0.231484  0.768516\n",
       "Cluster 6              0.076914             0.265761  0.657325"
      ]
     },
     "execution_count": 54,
     "metadata": {},
     "output_type": "execute_result"
    }
   ],
   "source": [
    "clustNames= ['Cluster 0', 'Cluster 1', 'Cluster 2','Cluster 3','Cluster 4', 'Cluster 5', 'Cluster 6']\n",
    "dfH = pd.DataFrame(index=clustNames, data=np.array([[clust0.loc[clust0['HousingCat']==0].RowWt.sum(),\n",
    "                                                     clust0.loc[clust0['HousingCat']==1].RowWt.sum(),\n",
    "                                                     clust0.loc[clust0['HousingCat']==2].RowWt.sum()], \n",
    "                                                    [clust1.loc[clust1['HousingCat']==0].RowWt.sum(),\n",
    "                                                     clust1.loc[clust1['HousingCat']==1].RowWt.sum(),\n",
    "                                                     clust1.loc[clust1['HousingCat']==2].RowWt.sum()],\n",
    "                                                    [clust2.loc[clust2['HousingCat']==0].RowWt.sum(),\n",
    "                                                     clust2.loc[clust2['HousingCat']==1].RowWt.sum(),\n",
    "                                                     clust2.loc[clust2['HousingCat']==2].RowWt.sum()],\n",
    "                                                    [clust3.loc[clust3['HousingCat']==0].RowWt.sum(),\n",
    "                                                     clust3.loc[clust3['HousingCat']==1].RowWt.sum(),\n",
    "                                                     clust3.loc[clust3['HousingCat']==2].RowWt.sum()],\n",
    "                                                    [clust4.loc[clust4['HousingCat']==0].RowWt.sum(),\n",
    "                                                     clust4.loc[clust4['HousingCat']==1].RowWt.sum(),\n",
    "                                                     clust4.loc[clust4['HousingCat']==2].RowWt.sum()],\n",
    "                                                    [clust5.loc[clust5['HousingCat']==0].RowWt.sum(),\n",
    "                                                     clust5.loc[clust5['HousingCat']==1].RowWt.sum(),\n",
    "                                                     clust5.loc[clust5['HousingCat']==2].RowWt.sum()],\n",
    "                                                    [clust6.loc[clust6['HousingCat']==0].RowWt.sum(),\n",
    "                                                     clust6.loc[clust6['HousingCat']==1].RowWt.sum(),\n",
    "                                                     clust6.loc[clust6['HousingCat']==2].RowWt.sum()]]),\n",
    "                   columns=['>=30% Income on Rent', '<30% Income on Rent', 'Owner'])\n",
    "dfH"
   ]
  },
  {
   "cell_type": "markdown",
   "id": "ranking-burlington",
   "metadata": {},
   "source": [
    "## Education (binary)"
   ]
  },
  {
   "cell_type": "code",
   "execution_count": 55,
   "id": "involved-subscriber",
   "metadata": {},
   "outputs": [
    {
     "data": {
      "text/html": [
       "<div>\n",
       "<style scoped>\n",
       "    .dataframe tbody tr th:only-of-type {\n",
       "        vertical-align: middle;\n",
       "    }\n",
       "\n",
       "    .dataframe tbody tr th {\n",
       "        vertical-align: top;\n",
       "    }\n",
       "\n",
       "    .dataframe thead th {\n",
       "        text-align: right;\n",
       "    }\n",
       "</style>\n",
       "<table border=\"1\" class=\"dataframe\">\n",
       "  <thead>\n",
       "    <tr style=\"text-align: right;\">\n",
       "      <th></th>\n",
       "      <th>&lt;2 yr. College</th>\n",
       "      <th>&gt;2 yr. College</th>\n",
       "    </tr>\n",
       "  </thead>\n",
       "  <tbody>\n",
       "    <tr>\n",
       "      <th>Cluster 0</th>\n",
       "      <td>0.706877</td>\n",
       "      <td>0.293123</td>\n",
       "    </tr>\n",
       "    <tr>\n",
       "      <th>Cluster 1</th>\n",
       "      <td>0.691703</td>\n",
       "      <td>0.308297</td>\n",
       "    </tr>\n",
       "    <tr>\n",
       "      <th>Cluster 2</th>\n",
       "      <td>0.495655</td>\n",
       "      <td>0.504345</td>\n",
       "    </tr>\n",
       "    <tr>\n",
       "      <th>Cluster 3</th>\n",
       "      <td>1.000000</td>\n",
       "      <td>0.000000</td>\n",
       "    </tr>\n",
       "    <tr>\n",
       "      <th>Cluster 4</th>\n",
       "      <td>0.721682</td>\n",
       "      <td>0.278318</td>\n",
       "    </tr>\n",
       "    <tr>\n",
       "      <th>Cluster 5</th>\n",
       "      <td>0.000000</td>\n",
       "      <td>1.000000</td>\n",
       "    </tr>\n",
       "    <tr>\n",
       "      <th>Cluster 6</th>\n",
       "      <td>0.350375</td>\n",
       "      <td>0.649625</td>\n",
       "    </tr>\n",
       "  </tbody>\n",
       "</table>\n",
       "</div>"
      ],
      "text/plain": [
       "           <2 yr. College  >2 yr. College\n",
       "Cluster 0        0.706877        0.293123\n",
       "Cluster 1        0.691703        0.308297\n",
       "Cluster 2        0.495655        0.504345\n",
       "Cluster 3        1.000000        0.000000\n",
       "Cluster 4        0.721682        0.278318\n",
       "Cluster 5        0.000000        1.000000\n",
       "Cluster 6        0.350375        0.649625"
      ]
     },
     "execution_count": 55,
     "metadata": {},
     "output_type": "execute_result"
    }
   ],
   "source": [
    "#TABLE\n",
    "clustNames= ['Cluster 0', 'Cluster 1', 'Cluster 2','Cluster 3','Cluster 4', 'Cluster 5', 'Cluster 6']\n",
    "dfEd = pd.DataFrame(index=clustNames, data=np.array([[clust0.loc[clust0['EDUCbin']==0].RowWt.sum(),\n",
    "                                                     clust0.loc[clust0['EDUCbin']==1].RowWt.sum()], \n",
    "                                                    [clust1.loc[clust1['EDUCbin']==0].RowWt.sum(),\n",
    "                                                     clust1.loc[clust1['EDUCbin']==1].RowWt.sum()],\n",
    "                                                    [clust2.loc[clust2['EDUCbin']==0].RowWt.sum(),\n",
    "                                                     clust2.loc[clust2['EDUCbin']==1].RowWt.sum()],\n",
    "                                                    [clust3.loc[clust3['EDUCbin']==0].RowWt.sum(),\n",
    "                                                     clust3.loc[clust3['EDUCbin']==1].RowWt.sum()],\n",
    "                                                    [clust4.loc[clust4['EDUCbin']==0].RowWt.sum(),\n",
    "                                                     clust4.loc[clust4['EDUCbin']==1].RowWt.sum()],\n",
    "                                                    [clust5.loc[clust5['EDUCbin']==0].RowWt.sum(),\n",
    "                                                     clust5.loc[clust5['EDUCbin']==1].RowWt.sum()],\n",
    "                                                    [clust6.loc[clust6['EDUCbin']==0].RowWt.sum(),\n",
    "                                                     clust6.loc[clust6['EDUCbin']==1].RowWt.sum()]]),\n",
    "                   columns=['<2 yr. College', '>2 yr. College'])\n",
    "dfEd"
   ]
  },
  {
   "cell_type": "markdown",
   "id": "packed-demonstration",
   "metadata": {},
   "source": [
    "## Broadband Availability"
   ]
  },
  {
   "cell_type": "code",
   "execution_count": 56,
   "id": "discrete-brother",
   "metadata": {},
   "outputs": [
    {
     "data": {
      "text/html": [
       "<div>\n",
       "<style scoped>\n",
       "    .dataframe tbody tr th:only-of-type {\n",
       "        vertical-align: middle;\n",
       "    }\n",
       "\n",
       "    .dataframe tbody tr th {\n",
       "        vertical-align: top;\n",
       "    }\n",
       "\n",
       "    .dataframe thead th {\n",
       "        text-align: right;\n",
       "    }\n",
       "</style>\n",
       "<table border=\"1\" class=\"dataframe\">\n",
       "  <thead>\n",
       "    <tr style=\"text-align: right;\">\n",
       "      <th></th>\n",
       "      <th>Broadband-Serviced</th>\n",
       "      <th>No Service</th>\n",
       "    </tr>\n",
       "  </thead>\n",
       "  <tbody>\n",
       "    <tr>\n",
       "      <th>Cluster 0</th>\n",
       "      <td>0.000000</td>\n",
       "      <td>1.000000</td>\n",
       "    </tr>\n",
       "    <tr>\n",
       "      <th>Cluster 1</th>\n",
       "      <td>1.000000</td>\n",
       "      <td>0.000000</td>\n",
       "    </tr>\n",
       "    <tr>\n",
       "      <th>Cluster 2</th>\n",
       "      <td>0.939314</td>\n",
       "      <td>0.060686</td>\n",
       "    </tr>\n",
       "    <tr>\n",
       "      <th>Cluster 3</th>\n",
       "      <td>1.000000</td>\n",
       "      <td>0.000000</td>\n",
       "    </tr>\n",
       "    <tr>\n",
       "      <th>Cluster 4</th>\n",
       "      <td>0.768098</td>\n",
       "      <td>0.231902</td>\n",
       "    </tr>\n",
       "    <tr>\n",
       "      <th>Cluster 5</th>\n",
       "      <td>1.000000</td>\n",
       "      <td>0.000000</td>\n",
       "    </tr>\n",
       "    <tr>\n",
       "      <th>Cluster 6</th>\n",
       "      <td>0.984877</td>\n",
       "      <td>0.015123</td>\n",
       "    </tr>\n",
       "  </tbody>\n",
       "</table>\n",
       "</div>"
      ],
      "text/plain": [
       "           Broadband-Serviced  No Service\n",
       "Cluster 0            0.000000    1.000000\n",
       "Cluster 1            1.000000    0.000000\n",
       "Cluster 2            0.939314    0.060686\n",
       "Cluster 3            1.000000    0.000000\n",
       "Cluster 4            0.768098    0.231902\n",
       "Cluster 5            1.000000    0.000000\n",
       "Cluster 6            0.984877    0.015123"
      ]
     },
     "execution_count": 56,
     "metadata": {},
     "output_type": "execute_result"
    }
   ],
   "source": [
    "#TABLE\n",
    "clustNames= ['Cluster 0', 'Cluster 1', 'Cluster 2','Cluster 3','Cluster 4', 'Cluster 5', 'Cluster 6']\n",
    "dfBb = pd.DataFrame(index=clustNames, data=np.array([[clust0.loc[clust0['CIHISPEED']==10].RowWt.sum(),\n",
    "                                                     clust0.loc[clust0['CIHISPEED']==20].RowWt.sum()], \n",
    "                                                    [clust1.loc[clust1['CIHISPEED']==10].RowWt.sum(),\n",
    "                                                     clust1.loc[clust1['CIHISPEED']==20].RowWt.sum()],\n",
    "                                                    [clust2.loc[clust2['CIHISPEED']==10].RowWt.sum(),\n",
    "                                                     clust2.loc[clust2['CIHISPEED']==20].RowWt.sum()],\n",
    "                                                    [clust3.loc[clust3['CIHISPEED']==10].RowWt.sum(),\n",
    "                                                     clust3.loc[clust3['CIHISPEED']==20].RowWt.sum()],\n",
    "                                                    [clust4.loc[clust4['CIHISPEED']==10].RowWt.sum(),\n",
    "                                                     clust4.loc[clust4['CIHISPEED']==20].RowWt.sum()],\n",
    "                                                    [clust5.loc[clust5['CIHISPEED']==10].RowWt.sum(),\n",
    "                                                     clust5.loc[clust5['CIHISPEED']==20].RowWt.sum()],\n",
    "                                                    [clust6.loc[clust6['CIHISPEED']==10].RowWt.sum(),\n",
    "                                                     clust6.loc[clust6['CIHISPEED']==20].RowWt.sum()]]),\n",
    "                   columns=['Broadband-Serviced', 'No Service'])\n",
    "dfBb"
   ]
  },
  {
   "cell_type": "markdown",
   "id": "strategic-official",
   "metadata": {},
   "source": [
    "## Commute Time"
   ]
  },
  {
   "cell_type": "code",
   "execution_count": 57,
   "id": "express-marks",
   "metadata": {},
   "outputs": [
    {
     "data": {
      "image/png": "[encoded data removed]",
      "text/plain": [
       "<Figure size 1440x720 with 8 Axes>"
      ]
     },
     "metadata": {
      "needs_background": "light"
     },
     "output_type": "display_data"
    }
   ],
   "source": [
    "fig, axs = plt.subplots(2, 4, sharex=True, figsize=(20,10))\n",
    "fig.suptitle(\"Cluster Commute Time Distributions\")\n",
    "\n",
    "axs[0, 0].hist(clust0['TRANTIME'])\n",
    "axs[0, 0].set_title('Cluster 0')\n",
    "axs[0, 1].hist(clust1['TRANTIME'])\n",
    "axs[0, 1].set_title('Cluster 1')\n",
    "axs[0, 2].hist(clust2['TRANTIME'])\n",
    "axs[0, 2].set_title('Cluster 2')\n",
    "axs[0, 3].hist(clust3['TRANTIME'])\n",
    "axs[0, 3].set_title('Cluster 3')\n",
    "axs[1, 0].hist(clust4['TRANTIME'])\n",
    "axs[1, 0].set_title('Cluster 4')\n",
    "axs[1, 1].hist(clust5['TRANTIME'])\n",
    "axs[1, 1].set_title('Cluster 5')\n",
    "axs[1, 2].hist(clust6['TRANTIME'])\n",
    "axs[1, 2].set_title('Cluster 6')\n",
    "\n",
    "plt.tight_layout()\n",
    "for ax in axs.flat[4:]:\n",
    "    ax.set(xlabel='Commute Time (Minutes)')"
   ]
  },
  {
   "cell_type": "markdown",
   "id": "historic-strip",
   "metadata": {},
   "source": [
    "## Drinking Water"
   ]
  },
  {
   "cell_type": "code",
   "execution_count": 58,
   "id": "welcome-blues",
   "metadata": {},
   "outputs": [
    {
     "data": {
      "image/png": "[encoded data removed]",
      "text/plain": [
       "<Figure size 1440x720 with 8 Axes>"
      ]
     },
     "metadata": {
      "needs_background": "light"
     },
     "output_type": "display_data"
    }
   ],
   "source": [
    "fig, axs = plt.subplots(2, 4, figsize=(20,10))\n",
    "fig.suptitle(\"Cluster Drinking Water Distributions\")\n",
    "\n",
    "axs[0, 0].hist(clust0['DrinkingWater'])\n",
    "axs[0, 0].set_title('Cluster 0')\n",
    "axs[0, 1].hist(clust1['DrinkingWater'])\n",
    "axs[0, 1].set_title('Cluster 1')\n",
    "axs[0, 2].hist(clust2['DrinkingWater'])\n",
    "axs[0, 2].set_title('Cluster 2')\n",
    "axs[0, 3].hist(clust3['DrinkingWater'])\n",
    "axs[0, 3].set_title('Cluster 3')\n",
    "axs[1, 0].hist(clust4['DrinkingWater'])\n",
    "axs[1, 0].set_title('Cluster 4')\n",
    "axs[1, 1].hist(clust5['DrinkingWater'])\n",
    "axs[1, 1].set_title('Cluster 5')\n",
    "axs[1, 2].hist(clust6['DrinkingWater'])\n",
    "axs[1, 2].set_title('Cluster 6')\n",
    "\n",
    "plt.tight_layout()\n",
    "for ax in axs.flat[4:]:\n",
    "    ax.set(xlabel='% in a Given Area Whose Water Provider has a Violation ')"
   ]
  },
  {
   "cell_type": "markdown",
   "id": "surface-factory",
   "metadata": {},
   "source": [
    "## Air Quality"
   ]
  },
  {
   "cell_type": "code",
   "execution_count": 59,
   "id": "confused-browse",
   "metadata": {},
   "outputs": [
    {
     "data": {
      "image/png": "[encoded data removed]",
      "text/plain": [
       "<Figure size 1440x720 with 8 Axes>"
      ]
     },
     "metadata": {
      "needs_background": "light"
     },
     "output_type": "display_data"
    }
   ],
   "source": [
    "fig, axs = plt.subplots(2, 4, sharex=True, figsize=(20,10))\n",
    "fig.suptitle(\"Cluster Air Quality Distributions\")\n",
    "\n",
    "axs[0, 0].hist(clust0['AirQuality'])\n",
    "axs[0, 0].set_title('Cluster 0')\n",
    "axs[0, 1].hist(clust1['AirQuality'])\n",
    "axs[0, 1].set_title('Cluster 1')\n",
    "axs[0, 2].hist(clust2['AirQuality'])\n",
    "axs[0, 2].set_title('Cluster 2')\n",
    "axs[0, 3].hist(clust3['AirQuality'])\n",
    "axs[0, 3].set_title('Cluster 3')\n",
    "axs[1, 0].hist(clust4['AirQuality'])\n",
    "axs[1, 0].set_title('Cluster 4')\n",
    "axs[1, 1].hist(clust5['AirQuality'])\n",
    "axs[1, 1].set_title('Cluster 5')\n",
    "axs[1, 2].hist(clust6['AirQuality'])\n",
    "axs[1, 2].set_title('Cluster 6')\n",
    "\n",
    "plt.tight_layout()\n",
    "for ax in axs.flat[4:]:\n",
    "    ax.set(xlabel='Average AQI')"
   ]
  },
  {
   "cell_type": "markdown",
   "id": "informal-combat",
   "metadata": {},
   "source": [
    "## Early Education"
   ]
  },
  {
   "cell_type": "code",
   "execution_count": 60,
   "id": "swiss-samuel",
   "metadata": {},
   "outputs": [
    {
     "data": {
      "image/png": "[encoded data removed]",
      "text/plain": [
       "<Figure size 1440x720 with 8 Axes>"
      ]
     },
     "metadata": {
      "needs_background": "light"
     },
     "output_type": "display_data"
    }
   ],
   "source": [
    "fig, axs = plt.subplots(2, 4, sharex=True, figsize=(20,10))\n",
    "fig.suptitle(\"Cluster Early Education Distributions\")\n",
    "\n",
    "axs[0, 0].hist(clust0['EarlyEd'])\n",
    "axs[0, 0].set_title('Cluster 0')\n",
    "axs[0, 1].hist(clust1['EarlyEd'])\n",
    "axs[0, 1].set_title('Cluster 1')\n",
    "axs[0, 2].hist(clust2['EarlyEd'])\n",
    "axs[0, 2].set_title('Cluster 2')\n",
    "axs[0, 3].hist(clust3['EarlyEd'])\n",
    "axs[0, 3].set_title('Cluster 3')\n",
    "axs[1, 0].hist(clust4['EarlyEd'])\n",
    "axs[1, 0].set_title('Cluster 4')\n",
    "axs[1, 1].hist(clust5['EarlyEd'])\n",
    "axs[1, 1].set_title('Cluster 5')\n",
    "axs[1, 2].hist(clust6['EarlyEd'])\n",
    "axs[1, 2].set_title('Cluster 6')\n",
    "\n",
    "plt.tight_layout()\n",
    "for ax in axs.flat[4:]:\n",
    "    ax.set(xlabel='% 3-4 Yr. Olds Enrolled in Preschool')"
   ]
  },
  {
   "cell_type": "markdown",
   "id": "reduced-singles",
   "metadata": {},
   "source": [
    "## Prosperous Neighborhoods"
   ]
  },
  {
   "cell_type": "code",
   "execution_count": 61,
   "id": "optical-spine",
   "metadata": {},
   "outputs": [
    {
     "data": {
      "image/png": "[encoded data removed]",
      "text/plain": [
       "<Figure size 1440x720 with 8 Axes>"
      ]
     },
     "metadata": {
      "needs_background": "light"
     },
     "output_type": "display_data"
    }
   ],
   "source": [
    "fig, axs = plt.subplots(2, 4, sharex=True, figsize=(20,10))\n",
    "fig.suptitle(\"Cluster Prosperous Neighborhoods Distributions\")\n",
    "\n",
    "axs[0, 0].hist(clust0['ProspNeigh'])\n",
    "axs[0, 0].set_title('Cluster 0')\n",
    "axs[0, 1].hist(clust1['ProspNeigh'])\n",
    "axs[0, 1].set_title('Cluster 1')\n",
    "axs[0, 2].hist(clust2['ProspNeigh'])\n",
    "axs[0, 2].set_title('Cluster 2')\n",
    "axs[0, 3].hist(clust3['ProspNeigh'])\n",
    "axs[0, 3].set_title('Cluster 3')\n",
    "axs[1, 0].hist(clust4['ProspNeigh'])\n",
    "axs[1, 0].set_title('Cluster 4')\n",
    "axs[1, 1].hist(clust5['ProspNeigh'])\n",
    "axs[1, 1].set_title('Cluster 5')\n",
    "axs[1, 2].hist(clust6['ProspNeigh'])\n",
    "axs[1, 2].set_title('Cluster 6')\n",
    "\n",
    "plt.tight_layout()\n",
    "for ax in axs.flat[4:]:\n",
    "    ax.set(xlabel='% Residents Not Living in Areas of Concentrated Poverty')"
   ]
  },
  {
   "cell_type": "markdown",
   "id": "precious-conviction",
   "metadata": {},
   "source": [
    "## CLUSTER DEMOGRAPHICS"
   ]
  },
  {
   "cell_type": "markdown",
   "id": "hearing-jerusalem",
   "metadata": {},
   "source": [
    "## Age"
   ]
  },
  {
   "cell_type": "code",
   "execution_count": 62,
   "id": "auburn-colorado",
   "metadata": {},
   "outputs": [
    {
     "data": {
      "image/png": "[encoded data removed]",
      "text/plain": [
       "<Figure size 1440x720 with 8 Axes>"
      ]
     },
     "metadata": {
      "needs_background": "light"
     },
     "output_type": "display_data"
    }
   ],
   "source": [
    "fig, axs = plt.subplots(2, 4, sharey=True, sharex=True, figsize=(20,10))\n",
    "fig.suptitle(\"Cluster Age Distributions\")\n",
    "\n",
    "axs[0, 0].hist(clust0['AGE'])\n",
    "axs[0, 0].set_title('Cluster 0')\n",
    "axs[0, 1].hist(clust1['AGE'])\n",
    "axs[0, 1].set_title('Cluster 1')\n",
    "axs[0, 2].hist(clust2['AGE'])\n",
    "axs[0, 2].set_title('Cluster 2')\n",
    "axs[0, 3].hist(clust3['AGE'])\n",
    "axs[0, 3].set_title('Cluster 3')\n",
    "axs[1, 0].hist(clust4['AGE'])\n",
    "axs[1, 0].set_title('Cluster 4')\n",
    "axs[1, 1].hist(clust5['AGE'])\n",
    "axs[1, 1].set_title('Cluster 5')\n",
    "axs[1, 2].hist(clust6['AGE'])\n",
    "axs[1, 2].set_title('Cluster 6')\n",
    "\n",
    "plt.tight_layout()\n",
    "for ax in axs.flat[4:]:\n",
    "    ax.set(xlabel='Age (Years)')"
   ]
  },
  {
   "cell_type": "markdown",
   "id": "challenging-tuesday",
   "metadata": {},
   "source": [
    "## Race / Ethnicity"
   ]
  },
  {
   "cell_type": "code",
   "execution_count": 63,
   "id": "national-legislature",
   "metadata": {},
   "outputs": [
    {
     "data": {
      "text/html": [
       "<div>\n",
       "<style scoped>\n",
       "    .dataframe tbody tr th:only-of-type {\n",
       "        vertical-align: middle;\n",
       "    }\n",
       "\n",
       "    .dataframe tbody tr th {\n",
       "        vertical-align: top;\n",
       "    }\n",
       "\n",
       "    .dataframe thead th {\n",
       "        text-align: right;\n",
       "    }\n",
       "</style>\n",
       "<table border=\"1\" class=\"dataframe\">\n",
       "  <thead>\n",
       "    <tr style=\"text-align: right;\">\n",
       "      <th></th>\n",
       "      <th>White</th>\n",
       "      <th>Black</th>\n",
       "      <th>Native American/Alaskan</th>\n",
       "      <th>Chinese</th>\n",
       "      <th>Japanese</th>\n",
       "      <th>Other Asian/Pac. Islander</th>\n",
       "      <th>Other Race</th>\n",
       "      <th>Two Major Races</th>\n",
       "      <th>Three +</th>\n",
       "    </tr>\n",
       "  </thead>\n",
       "  <tbody>\n",
       "    <tr>\n",
       "      <th>Cluster 0</th>\n",
       "      <td>0.585401</td>\n",
       "      <td>0.066613</td>\n",
       "      <td>0.009160</td>\n",
       "      <td>0.037304</td>\n",
       "      <td>0.005770</td>\n",
       "      <td>0.089256</td>\n",
       "      <td>0.173918</td>\n",
       "      <td>0.029067</td>\n",
       "      <td>0.003511</td>\n",
       "    </tr>\n",
       "    <tr>\n",
       "      <th>Cluster 1</th>\n",
       "      <td>0.562145</td>\n",
       "      <td>0.086768</td>\n",
       "      <td>0.007529</td>\n",
       "      <td>0.032031</td>\n",
       "      <td>0.006579</td>\n",
       "      <td>0.102148</td>\n",
       "      <td>0.161666</td>\n",
       "      <td>0.036513</td>\n",
       "      <td>0.004621</td>\n",
       "    </tr>\n",
       "    <tr>\n",
       "      <th>Cluster 2</th>\n",
       "      <td>0.578758</td>\n",
       "      <td>0.065590</td>\n",
       "      <td>0.006859</td>\n",
       "      <td>0.046004</td>\n",
       "      <td>0.007759</td>\n",
       "      <td>0.126449</td>\n",
       "      <td>0.128233</td>\n",
       "      <td>0.034915</td>\n",
       "      <td>0.005432</td>\n",
       "    </tr>\n",
       "    <tr>\n",
       "      <th>Cluster 3</th>\n",
       "      <td>0.635125</td>\n",
       "      <td>0.048423</td>\n",
       "      <td>0.008118</td>\n",
       "      <td>0.022592</td>\n",
       "      <td>0.006190</td>\n",
       "      <td>0.082209</td>\n",
       "      <td>0.163560</td>\n",
       "      <td>0.029967</td>\n",
       "      <td>0.003817</td>\n",
       "    </tr>\n",
       "    <tr>\n",
       "      <th>Cluster 4</th>\n",
       "      <td>0.736369</td>\n",
       "      <td>0.030486</td>\n",
       "      <td>0.009335</td>\n",
       "      <td>0.005538</td>\n",
       "      <td>0.002576</td>\n",
       "      <td>0.052389</td>\n",
       "      <td>0.135293</td>\n",
       "      <td>0.024960</td>\n",
       "      <td>0.003055</td>\n",
       "    </tr>\n",
       "    <tr>\n",
       "      <th>Cluster 5</th>\n",
       "      <td>0.667646</td>\n",
       "      <td>0.043802</td>\n",
       "      <td>0.003841</td>\n",
       "      <td>0.054450</td>\n",
       "      <td>0.014716</td>\n",
       "      <td>0.136743</td>\n",
       "      <td>0.044653</td>\n",
       "      <td>0.029934</td>\n",
       "      <td>0.004214</td>\n",
       "    </tr>\n",
       "    <tr>\n",
       "      <th>Cluster 6</th>\n",
       "      <td>0.554282</td>\n",
       "      <td>0.039126</td>\n",
       "      <td>0.004378</td>\n",
       "      <td>0.110623</td>\n",
       "      <td>0.012058</td>\n",
       "      <td>0.173559</td>\n",
       "      <td>0.068405</td>\n",
       "      <td>0.032579</td>\n",
       "      <td>0.004990</td>\n",
       "    </tr>\n",
       "  </tbody>\n",
       "</table>\n",
       "</div>"
      ],
      "text/plain": [
       "              White     Black  Native American/Alaskan   Chinese  Japanese  \\\n",
       "Cluster 0  0.585401  0.066613                 0.009160  0.037304  0.005770   \n",
       "Cluster 1  0.562145  0.086768                 0.007529  0.032031  0.006579   \n",
       "Cluster 2  0.578758  0.065590                 0.006859  0.046004  0.007759   \n",
       "Cluster 3  0.635125  0.048423                 0.008118  0.022592  0.006190   \n",
       "Cluster 4  0.736369  0.030486                 0.009335  0.005538  0.002576   \n",
       "Cluster 5  0.667646  0.043802                 0.003841  0.054450  0.014716   \n",
       "Cluster 6  0.554282  0.039126                 0.004378  0.110623  0.012058   \n",
       "\n",
       "           Other Asian/Pac. Islander  Other Race  Two Major Races   Three +  \n",
       "Cluster 0                   0.089256    0.173918         0.029067  0.003511  \n",
       "Cluster 1                   0.102148    0.161666         0.036513  0.004621  \n",
       "Cluster 2                   0.126449    0.128233         0.034915  0.005432  \n",
       "Cluster 3                   0.082209    0.163560         0.029967  0.003817  \n",
       "Cluster 4                   0.052389    0.135293         0.024960  0.003055  \n",
       "Cluster 5                   0.136743    0.044653         0.029934  0.004214  \n",
       "Cluster 6                   0.173559    0.068405         0.032579  0.004990  "
      ]
     },
     "execution_count": 63,
     "metadata": {},
     "output_type": "execute_result"
    }
   ],
   "source": [
    "clustNames= ['Cluster 0', 'Cluster 1', 'Cluster 2','Cluster 3','Cluster 4', 'Cluster 5', 'Cluster 6']\n",
    "dfR = pd.DataFrame(index=clustNames, data=np.array([[clust0.loc[clust0['RACE']==1].RowWt.sum(),clust0.loc[clust0['RACE']==2].RowWt.sum(),clust0.loc[clust0['RACE']==3].RowWt.sum(),\n",
    "                                                    clust0.loc[clust0['RACE']==4].RowWt.sum(),clust0.loc[clust0['RACE']==5].RowWt.sum(),clust0.loc[clust0['RACE']==6].RowWt.sum(),\n",
    "                                                    clust0.loc[clust0['RACE']==7].RowWt.sum(),clust0.loc[clust0['RACE']==8].RowWt.sum(),clust0.loc[clust0['RACE']==9].RowWt.sum()], \n",
    "                                                    [clust1.loc[clust1['RACE']==1].RowWt.sum(),clust1.loc[clust1['RACE']==2].RowWt.sum(),clust1.loc[clust1['RACE']==3].RowWt.sum(),\n",
    "                                                    clust1.loc[clust1['RACE']==4].RowWt.sum(),clust1.loc[clust1['RACE']==5].RowWt.sum(),clust1.loc[clust1['RACE']==6].RowWt.sum(),\n",
    "                                                    clust1.loc[clust1['RACE']==7].RowWt.sum(),clust1.loc[clust1['RACE']==8].RowWt.sum(),clust1.loc[clust1['RACE']==9].RowWt.sum()],\n",
    "                                                    [clust2.loc[clust2['RACE']==1].RowWt.sum(),clust2.loc[clust2['RACE']==2].RowWt.sum(),clust2.loc[clust2['RACE']==3].RowWt.sum(),\n",
    "                                                    clust2.loc[clust2['RACE']==4].RowWt.sum(),clust2.loc[clust2['RACE']==5].RowWt.sum(),clust2.loc[clust2['RACE']==6].RowWt.sum(),\n",
    "                                                    clust2.loc[clust2['RACE']==7].RowWt.sum(),clust2.loc[clust2['RACE']==8].RowWt.sum(),clust2.loc[clust2['RACE']==9].RowWt.sum()],\n",
    "                                                    [clust3.loc[clust3['RACE']==1].RowWt.sum(),clust3.loc[clust3['RACE']==2].RowWt.sum(),clust3.loc[clust3['RACE']==3].RowWt.sum(),\n",
    "                                                    clust3.loc[clust3['RACE']==4].RowWt.sum(),clust3.loc[clust3['RACE']==5].RowWt.sum(),clust3.loc[clust3['RACE']==6].RowWt.sum(),\n",
    "                                                    clust3.loc[clust3['RACE']==7].RowWt.sum(),clust3.loc[clust3['RACE']==8].RowWt.sum(),clust3.loc[clust3['RACE']==9].RowWt.sum()],\n",
    "                                                    [clust4.loc[clust4['RACE']==1].RowWt.sum(),clust4.loc[clust4['RACE']==2].RowWt.sum(),clust4.loc[clust4['RACE']==3].RowWt.sum(),\n",
    "                                                    clust4.loc[clust4['RACE']==4].RowWt.sum(),clust4.loc[clust4['RACE']==5].RowWt.sum(),clust4.loc[clust4['RACE']==6].RowWt.sum(),\n",
    "                                                    clust4.loc[clust4['RACE']==7].RowWt.sum(),clust4.loc[clust4['RACE']==8].RowWt.sum(),clust4.loc[clust4['RACE']==9].RowWt.sum()],\n",
    "                                                    [clust5.loc[clust5['RACE']==1].RowWt.sum(),clust5.loc[clust5['RACE']==2].RowWt.sum(),clust5.loc[clust5['RACE']==3].RowWt.sum(),\n",
    "                                                    clust5.loc[clust5['RACE']==4].RowWt.sum(),clust5.loc[clust5['RACE']==5].RowWt.sum(),clust5.loc[clust5['RACE']==6].RowWt.sum(),\n",
    "                                                    clust5.loc[clust5['RACE']==7].RowWt.sum(),clust5.loc[clust5['RACE']==8].RowWt.sum(),clust5.loc[clust5['RACE']==9].RowWt.sum()],\n",
    "                                                    [clust6.loc[clust6['RACE']==1].RowWt.sum(),clust6.loc[clust6['RACE']==2].RowWt.sum(),clust6.loc[clust6['RACE']==3].RowWt.sum(),\n",
    "                                                    clust6.loc[clust6['RACE']==4].RowWt.sum(),clust6.loc[clust6['RACE']==5].RowWt.sum(),clust6.loc[clust6['RACE']==6].RowWt.sum(),\n",
    "                                                    clust6.loc[clust6['RACE']==7].RowWt.sum(),clust6.loc[clust6['RACE']==8].RowWt.sum(),clust6.loc[clust6['RACE']==9].RowWt.sum()]]),\n",
    "                    columns=['White','Black','Native American/Alaskan','Chinese','Japanese','Other Asian/Pac. Islander','Other Race','Two Major Races','Three +'])\n",
    "dfR"
   ]
  },
  {
   "cell_type": "code",
   "execution_count": 80,
   "id": "above-phoenix",
   "metadata": {},
   "outputs": [
    {
     "data": {
      "text/html": [
       "<div>\n",
       "<style scoped>\n",
       "    .dataframe tbody tr th:only-of-type {\n",
       "        vertical-align: middle;\n",
       "    }\n",
       "\n",
       "    .dataframe tbody tr th {\n",
       "        vertical-align: top;\n",
       "    }\n",
       "\n",
       "    .dataframe thead th {\n",
       "        text-align: right;\n",
       "    }\n",
       "</style>\n",
       "<table border=\"1\" class=\"dataframe\">\n",
       "  <thead>\n",
       "    <tr style=\"text-align: right;\">\n",
       "      <th></th>\n",
       "      <th>Non-Hispanic</th>\n",
       "      <th>Hispanic</th>\n",
       "    </tr>\n",
       "  </thead>\n",
       "  <tbody>\n",
       "    <tr>\n",
       "      <th>Cluster 0</th>\n",
       "      <td>0.562305</td>\n",
       "      <td>0.437695</td>\n",
       "    </tr>\n",
       "    <tr>\n",
       "      <th>Cluster 1</th>\n",
       "      <td>0.595020</td>\n",
       "      <td>0.404980</td>\n",
       "    </tr>\n",
       "    <tr>\n",
       "      <th>Cluster 2</th>\n",
       "      <td>0.656593</td>\n",
       "      <td>0.343407</td>\n",
       "    </tr>\n",
       "    <tr>\n",
       "      <th>Cluster 3</th>\n",
       "      <td>0.557478</td>\n",
       "      <td>0.442522</td>\n",
       "    </tr>\n",
       "    <tr>\n",
       "      <th>Cluster 4</th>\n",
       "      <td>0.529806</td>\n",
       "      <td>0.470194</td>\n",
       "    </tr>\n",
       "    <tr>\n",
       "      <th>Cluster 5</th>\n",
       "      <td>0.836541</td>\n",
       "      <td>0.163459</td>\n",
       "    </tr>\n",
       "    <tr>\n",
       "      <th>Cluster 6</th>\n",
       "      <td>0.841054</td>\n",
       "      <td>0.158946</td>\n",
       "    </tr>\n",
       "  </tbody>\n",
       "</table>\n",
       "</div>"
      ],
      "text/plain": [
       "           Non-Hispanic  Hispanic\n",
       "Cluster 0      0.562305  0.437695\n",
       "Cluster 1      0.595020  0.404980\n",
       "Cluster 2      0.656593  0.343407\n",
       "Cluster 3      0.557478  0.442522\n",
       "Cluster 4      0.529806  0.470194\n",
       "Cluster 5      0.836541  0.163459\n",
       "Cluster 6      0.841054  0.158946"
      ]
     },
     "execution_count": 80,
     "metadata": {},
     "output_type": "execute_result"
    }
   ],
   "source": [
    "#TABLE\n",
    "clustNames= ['Cluster 0', 'Cluster 1', 'Cluster 2','Cluster 3','Cluster 4', 'Cluster 5', 'Cluster 6']\n",
    "dfEd = pd.DataFrame(index=clustNames, data=np.array([[clust0.loc[clust0['HISPAN']==0].RowWt.sum(),\n",
    "                                                     clust0.loc[clust0['HISPAN']>=1].RowWt.sum()], \n",
    "                                                    [clust1.loc[clust1['HISPAN']==0].RowWt.sum(),\n",
    "                                                     clust1.loc[clust1['HISPAN']>=1].RowWt.sum()],\n",
    "                                                    [clust2.loc[clust2['HISPAN']==0].RowWt.sum(),\n",
    "                                                     clust2.loc[clust2['HISPAN']>=1].RowWt.sum()],\n",
    "                                                    [clust3.loc[clust3['HISPAN']==0].RowWt.sum(),\n",
    "                                                     clust3.loc[clust3['HISPAN']>=1].RowWt.sum()],\n",
    "                                                    [clust4.loc[clust4['HISPAN']==0].RowWt.sum(),\n",
    "                                                     clust4.loc[clust4['HISPAN']>=1].RowWt.sum()],\n",
    "                                                    [clust5.loc[clust5['HISPAN']==0].RowWt.sum(),\n",
    "                                                     clust5.loc[clust5['HISPAN']>=1].RowWt.sum()],\n",
    "                                                    [clust6.loc[clust6['HISPAN']==0].RowWt.sum(),\n",
    "                                                     clust6.loc[clust6['HISPAN']>=1].RowWt.sum()]]),\n",
    "                   columns=['Non-Hispanic', 'Hispanic'])\n",
    "dfEd"
   ]
  },
  {
   "cell_type": "markdown",
   "id": "tropical-reverse",
   "metadata": {},
   "source": [
    "## Income"
   ]
  },
  {
   "cell_type": "code",
   "execution_count": 73,
   "id": "wound-pepper",
   "metadata": {},
   "outputs": [
    {
     "data": {
      "text/html": [
       "<div>\n",
       "<style scoped>\n",
       "    .dataframe tbody tr th:only-of-type {\n",
       "        vertical-align: middle;\n",
       "    }\n",
       "\n",
       "    .dataframe tbody tr th {\n",
       "        vertical-align: top;\n",
       "    }\n",
       "\n",
       "    .dataframe thead th {\n",
       "        text-align: right;\n",
       "    }\n",
       "</style>\n",
       "<table border=\"1\" class=\"dataframe\">\n",
       "  <thead>\n",
       "    <tr style=\"text-align: right;\">\n",
       "      <th></th>\n",
       "      <th>&lt; 50,000</th>\n",
       "      <th>50,000 - 150,000</th>\n",
       "      <th>&gt;=150,000</th>\n",
       "    </tr>\n",
       "  </thead>\n",
       "  <tbody>\n",
       "    <tr>\n",
       "      <th>Cluster 0</th>\n",
       "      <td>0.367367</td>\n",
       "      <td>0.486709</td>\n",
       "      <td>0.145924</td>\n",
       "    </tr>\n",
       "    <tr>\n",
       "      <th>Cluster 1</th>\n",
       "      <td>0.642041</td>\n",
       "      <td>0.356031</td>\n",
       "      <td>0.001928</td>\n",
       "    </tr>\n",
       "    <tr>\n",
       "      <th>Cluster 2</th>\n",
       "      <td>0.098718</td>\n",
       "      <td>0.527209</td>\n",
       "      <td>0.374073</td>\n",
       "    </tr>\n",
       "    <tr>\n",
       "      <th>Cluster 3</th>\n",
       "      <td>0.178396</td>\n",
       "      <td>0.613638</td>\n",
       "      <td>0.207966</td>\n",
       "    </tr>\n",
       "    <tr>\n",
       "      <th>Cluster 4</th>\n",
       "      <td>0.333110</td>\n",
       "      <td>0.522218</td>\n",
       "      <td>0.144672</td>\n",
       "    </tr>\n",
       "    <tr>\n",
       "      <th>Cluster 5</th>\n",
       "      <td>0.092975</td>\n",
       "      <td>0.486108</td>\n",
       "      <td>0.420916</td>\n",
       "    </tr>\n",
       "    <tr>\n",
       "      <th>Cluster 6</th>\n",
       "      <td>0.111413</td>\n",
       "      <td>0.414393</td>\n",
       "      <td>0.474194</td>\n",
       "    </tr>\n",
       "  </tbody>\n",
       "</table>\n",
       "</div>"
      ],
      "text/plain": [
       "           < 50,000    50,000 - 150,000  >=150,000\n",
       "Cluster 0  0.367367            0.486709   0.145924\n",
       "Cluster 1  0.642041            0.356031   0.001928\n",
       "Cluster 2  0.098718            0.527209   0.374073\n",
       "Cluster 3  0.178396            0.613638   0.207966\n",
       "Cluster 4  0.333110            0.522218   0.144672\n",
       "Cluster 5  0.092975            0.486108   0.420916\n",
       "Cluster 6  0.111413            0.414393   0.474194"
      ]
     },
     "execution_count": 73,
     "metadata": {},
     "output_type": "execute_result"
    }
   ],
   "source": [
    "clustNames= ['Cluster 0', 'Cluster 1', 'Cluster 2','Cluster 3','Cluster 4', 'Cluster 5', 'Cluster 6']\n",
    "dfI = pd.DataFrame(index=clustNames, data=np.array([[clust0.loc[clust0['HHINCOME']<50000].RowWt.sum(),\n",
    "                                                     clust0.loc[(clust0['HHINCOME']>=50000) & (clust0['HHINCOME']<150000)].RowWt.sum(),\n",
    "                                                     clust0.loc[clust0['HHINCOME']>=150000].RowWt.sum()], \n",
    "                                                    [clust1.loc[clust1['HHINCOME']<50000].RowWt.sum(),\n",
    "                                                     clust1.loc[(clust1['HHINCOME']>=50000) & (clust1['HHINCOME']<150000)].RowWt.sum(),\n",
    "                                                     clust1.loc[clust1['HHINCOME']>=150000].RowWt.sum()],\n",
    "                                                    [clust2.loc[clust2['HHINCOME']<50000].RowWt.sum(),\n",
    "                                                     clust2.loc[(clust2['HHINCOME']>=50000) & (clust2['HHINCOME']<150000)].RowWt.sum(),\n",
    "                                                     clust2.loc[clust2['HHINCOME']>=150000].RowWt.sum()],\n",
    "                                                    [clust3.loc[clust3['HHINCOME']<50000].RowWt.sum(),\n",
    "                                                     clust3.loc[(clust3['HHINCOME']>=50000) & (clust3['HHINCOME']<150000)].RowWt.sum(),\n",
    "                                                     clust3.loc[clust3['HHINCOME']>=150000].RowWt.sum()],\n",
    "                                                    [clust4.loc[clust4['HHINCOME']<50000].RowWt.sum(),\n",
    "                                                     clust4.loc[(clust4['HHINCOME']>=50000) & (clust4['HHINCOME']<150000)].RowWt.sum(),\n",
    "                                                     clust4.loc[clust4['HHINCOME']>=150000].RowWt.sum()],\n",
    "                                                    [clust5.loc[clust5['HHINCOME']<50000].RowWt.sum(),\n",
    "                                                     clust5.loc[(clust5['HHINCOME']>=50000) & (clust5['HHINCOME']<150000)].RowWt.sum(),\n",
    "                                                     clust5.loc[clust5['HHINCOME']>=150000].RowWt.sum()],\n",
    "                                                   [clust6.loc[clust6['HHINCOME']<50000].RowWt.sum(),\n",
    "                                                     clust6.loc[(clust6['HHINCOME']>=50000) & (clust6['HHINCOME']<150000)].RowWt.sum(),\n",
    "                                                     clust6.loc[clust6['HHINCOME']>=150000].RowWt.sum()]]),\n",
    "                   columns=['< 50,000', '  50,000 - 150,000', '>=150,000'])\n",
    "dfI"
   ]
  },
  {
   "cell_type": "code",
   "execution_count": 64,
   "id": "frequent-basement",
   "metadata": {},
   "outputs": [
    {
     "data": {
      "image/png": "[encoded data removed]",
      "text/plain": [
       "<Figure size 1440x720 with 8 Axes>"
      ]
     },
     "metadata": {
      "needs_background": "light"
     },
     "output_type": "display_data"
    }
   ],
   "source": [
    "fig, axs = plt.subplots(2, 4, \n",
    "                        sharex='row', \n",
    "                        figsize=(20,10))\n",
    "fig.suptitle(\"Income\")\n",
    "\n",
    "axs[0, 0].hist(clust0['HHINCOME'])\n",
    "axs[0, 0].set_title('Cluster 0')\n",
    "axs[0, 0].set_xlim([0, 500000])\n",
    "axs[0, 1].hist(clust1['HHINCOME'])\n",
    "axs[0, 1].set_title('Cluster 1')\n",
    "axs[0, 1].set_xlim([0, 500000])\n",
    "axs[0, 2].hist(clust2['HHINCOME'])\n",
    "axs[0, 2].set_title('Cluster 2')\n",
    "axs[0, 2].set_xlim([0, 500000])\n",
    "axs[0, 3].hist(clust3['HHINCOME'])\n",
    "axs[0, 3].set_title('Cluster 3')\n",
    "axs[0, 3].set_xlim([0, 500000])\n",
    "axs[1, 0].hist(clust4['HHINCOME'])\n",
    "axs[1, 0].set_title('Cluster 4')\n",
    "axs[1, 0].set_xlim([0, 500000])\n",
    "axs[1, 1].hist(clust5['HHINCOME'])\n",
    "axs[1, 1].set_title('Cluster 5')\n",
    "axs[1, 1].set_xlim([0, 500000])\n",
    "axs[1, 2].hist(clust6['HHINCOME'])\n",
    "axs[1, 2].set_title('Cluster 6')\n",
    "axs[1, 2].set_xlim([0, 500000])\n",
    "\n",
    "plt.tight_layout()\n",
    "for ax in axs.flat:\n",
    "    ax.set(xlabel='Income')"
   ]
  },
  {
   "cell_type": "markdown",
   "id": "played-drilling",
   "metadata": {},
   "source": [
    "## Feature Correlations"
   ]
  },
  {
   "cell_type": "code",
   "execution_count": 74,
   "id": "reverse-dominican",
   "metadata": {},
   "outputs": [
    {
     "data": {
      "text/html": [
       "<div>\n",
       "<style scoped>\n",
       "    .dataframe tbody tr th:only-of-type {\n",
       "        vertical-align: middle;\n",
       "    }\n",
       "\n",
       "    .dataframe tbody tr th {\n",
       "        vertical-align: top;\n",
       "    }\n",
       "\n",
       "    .dataframe thead th {\n",
       "        text-align: right;\n",
       "    }\n",
       "</style>\n",
       "<table border=\"1\" class=\"dataframe\">\n",
       "  <thead>\n",
       "    <tr style=\"text-align: right;\">\n",
       "      <th></th>\n",
       "      <th>HousingCat</th>\n",
       "      <th>EDUCbin</th>\n",
       "      <th>CIHISPEED</th>\n",
       "      <th>TRANTIME</th>\n",
       "      <th>DrinkingWater</th>\n",
       "      <th>AirQuality</th>\n",
       "      <th>EarlyEd</th>\n",
       "      <th>ProspNeigh</th>\n",
       "    </tr>\n",
       "  </thead>\n",
       "  <tbody>\n",
       "    <tr>\n",
       "      <th>0</th>\n",
       "      <td>1.0</td>\n",
       "      <td>1.0</td>\n",
       "      <td>10.0</td>\n",
       "      <td>10.0</td>\n",
       "      <td>1.0</td>\n",
       "      <td>37.0</td>\n",
       "      <td>0.554</td>\n",
       "      <td>0.896835</td>\n",
       "    </tr>\n",
       "    <tr>\n",
       "      <th>1</th>\n",
       "      <td>1.0</td>\n",
       "      <td>0.0</td>\n",
       "      <td>10.0</td>\n",
       "      <td>0.0</td>\n",
       "      <td>1.0</td>\n",
       "      <td>37.0</td>\n",
       "      <td>0.554</td>\n",
       "      <td>0.896835</td>\n",
       "    </tr>\n",
       "    <tr>\n",
       "      <th>2</th>\n",
       "      <td>2.0</td>\n",
       "      <td>1.0</td>\n",
       "      <td>10.0</td>\n",
       "      <td>20.0</td>\n",
       "      <td>1.0</td>\n",
       "      <td>37.0</td>\n",
       "      <td>0.554</td>\n",
       "      <td>0.896835</td>\n",
       "    </tr>\n",
       "    <tr>\n",
       "      <th>3</th>\n",
       "      <td>2.0</td>\n",
       "      <td>0.0</td>\n",
       "      <td>10.0</td>\n",
       "      <td>25.0</td>\n",
       "      <td>1.0</td>\n",
       "      <td>37.0</td>\n",
       "      <td>0.554</td>\n",
       "      <td>0.896835</td>\n",
       "    </tr>\n",
       "    <tr>\n",
       "      <th>4</th>\n",
       "      <td>2.0</td>\n",
       "      <td>0.0</td>\n",
       "      <td>10.0</td>\n",
       "      <td>0.0</td>\n",
       "      <td>1.0</td>\n",
       "      <td>37.0</td>\n",
       "      <td>0.554</td>\n",
       "      <td>0.896835</td>\n",
       "    </tr>\n",
       "  </tbody>\n",
       "</table>\n",
       "</div>"
      ],
      "text/plain": [
       "   HousingCat  EDUCbin  CIHISPEED  TRANTIME  DrinkingWater  AirQuality  \\\n",
       "0         1.0      1.0       10.0      10.0            1.0        37.0   \n",
       "1         1.0      0.0       10.0       0.0            1.0        37.0   \n",
       "2         2.0      1.0       10.0      20.0            1.0        37.0   \n",
       "3         2.0      0.0       10.0      25.0            1.0        37.0   \n",
       "4         2.0      0.0       10.0       0.0            1.0        37.0   \n",
       "\n",
       "   EarlyEd  ProspNeigh  \n",
       "0    0.554    0.896835  \n",
       "1    0.554    0.896835  \n",
       "2    0.554    0.896835  \n",
       "3    0.554    0.896835  \n",
       "4    0.554    0.896835  "
      ]
     },
     "execution_count": 74,
     "metadata": {},
     "output_type": "execute_result"
    }
   ],
   "source": [
    "Xcorr=dfXfin.iloc[:, [0,1,2,3,4,5,6,7]]\n",
    "Xcorr.head()"
   ]
  },
  {
   "cell_type": "code",
   "execution_count": 75,
   "id": "thousand-oklahoma",
   "metadata": {},
   "outputs": [
    {
     "data": {
      "text/plain": [
       "<AxesSubplot:>"
      ]
     },
     "execution_count": 75,
     "metadata": {},
     "output_type": "execute_result"
    },
    {
     "data": {
      "image/png": "[encoded data removed]",
      "text/plain": [
       "<Figure size 1008x720 with 2 Axes>"
      ]
     },
     "metadata": {
      "needs_background": "light"
     },
     "output_type": "display_data"
    }
   ],
   "source": [
    "plt.subplots(figsize=(14,10))\n",
    "sns.heatmap(Xcorr.corr(), annot = True)"
   ]
  },
  {
   "cell_type": "code",
   "execution_count": 76,
   "id": "continuous-feature",
   "metadata": {},
   "outputs": [
    {
     "data": {
      "text/html": [
       "<div>\n",
       "<style scoped>\n",
       "    .dataframe tbody tr th:only-of-type {\n",
       "        vertical-align: middle;\n",
       "    }\n",
       "\n",
       "    .dataframe tbody tr th {\n",
       "        vertical-align: top;\n",
       "    }\n",
       "\n",
       "    .dataframe thead th {\n",
       "        text-align: right;\n",
       "    }\n",
       "</style>\n",
       "<table border=\"1\" class=\"dataframe\">\n",
       "  <thead>\n",
       "    <tr style=\"text-align: right;\">\n",
       "      <th></th>\n",
       "      <th>HousingCat</th>\n",
       "      <th>EDUCbin</th>\n",
       "      <th>CIHISPEED</th>\n",
       "      <th>TRANTIME</th>\n",
       "      <th>DrinkingWater</th>\n",
       "      <th>AirQuality</th>\n",
       "      <th>EarlyEd</th>\n",
       "      <th>ProspNeigh</th>\n",
       "      <th>HHINCOME</th>\n",
       "      <th>AGE</th>\n",
       "    </tr>\n",
       "  </thead>\n",
       "  <tbody>\n",
       "    <tr>\n",
       "      <th>0</th>\n",
       "      <td>1.0</td>\n",
       "      <td>1.0</td>\n",
       "      <td>10.0</td>\n",
       "      <td>10.0</td>\n",
       "      <td>1.0</td>\n",
       "      <td>37.0</td>\n",
       "      <td>0.554</td>\n",
       "      <td>0.896835</td>\n",
       "      <td>56113.0</td>\n",
       "      <td>41.0</td>\n",
       "    </tr>\n",
       "    <tr>\n",
       "      <th>1</th>\n",
       "      <td>1.0</td>\n",
       "      <td>0.0</td>\n",
       "      <td>10.0</td>\n",
       "      <td>0.0</td>\n",
       "      <td>1.0</td>\n",
       "      <td>37.0</td>\n",
       "      <td>0.554</td>\n",
       "      <td>0.896835</td>\n",
       "      <td>56113.0</td>\n",
       "      <td>32.0</td>\n",
       "    </tr>\n",
       "    <tr>\n",
       "      <th>2</th>\n",
       "      <td>2.0</td>\n",
       "      <td>1.0</td>\n",
       "      <td>10.0</td>\n",
       "      <td>20.0</td>\n",
       "      <td>1.0</td>\n",
       "      <td>37.0</td>\n",
       "      <td>0.554</td>\n",
       "      <td>0.896835</td>\n",
       "      <td>147837.0</td>\n",
       "      <td>45.0</td>\n",
       "    </tr>\n",
       "    <tr>\n",
       "      <th>3</th>\n",
       "      <td>2.0</td>\n",
       "      <td>0.0</td>\n",
       "      <td>10.0</td>\n",
       "      <td>25.0</td>\n",
       "      <td>1.0</td>\n",
       "      <td>37.0</td>\n",
       "      <td>0.554</td>\n",
       "      <td>0.896835</td>\n",
       "      <td>147837.0</td>\n",
       "      <td>46.0</td>\n",
       "    </tr>\n",
       "    <tr>\n",
       "      <th>4</th>\n",
       "      <td>2.0</td>\n",
       "      <td>0.0</td>\n",
       "      <td>10.0</td>\n",
       "      <td>0.0</td>\n",
       "      <td>1.0</td>\n",
       "      <td>37.0</td>\n",
       "      <td>0.554</td>\n",
       "      <td>0.896835</td>\n",
       "      <td>1705.0</td>\n",
       "      <td>78.0</td>\n",
       "    </tr>\n",
       "  </tbody>\n",
       "</table>\n",
       "</div>"
      ],
      "text/plain": [
       "   HousingCat  EDUCbin  CIHISPEED  TRANTIME  DrinkingWater  AirQuality  \\\n",
       "0         1.0      1.0       10.0      10.0            1.0        37.0   \n",
       "1         1.0      0.0       10.0       0.0            1.0        37.0   \n",
       "2         2.0      1.0       10.0      20.0            1.0        37.0   \n",
       "3         2.0      0.0       10.0      25.0            1.0        37.0   \n",
       "4         2.0      0.0       10.0       0.0            1.0        37.0   \n",
       "\n",
       "   EarlyEd  ProspNeigh  HHINCOME   AGE  \n",
       "0    0.554    0.896835   56113.0  41.0  \n",
       "1    0.554    0.896835   56113.0  32.0  \n",
       "2    0.554    0.896835  147837.0  45.0  \n",
       "3    0.554    0.896835  147837.0  46.0  \n",
       "4    0.554    0.896835    1705.0  78.0  "
      ]
     },
     "execution_count": 76,
     "metadata": {},
     "output_type": "execute_result"
    }
   ],
   "source": [
    "Xcorr2=dfXfin.iloc[:, [0,1,2,3,4,5,6,7,9,11]]\n",
    "Xcorr2.head()"
   ]
  },
  {
   "cell_type": "code",
   "execution_count": 77,
   "id": "assumed-knight",
   "metadata": {},
   "outputs": [
    {
     "data": {
      "text/plain": [
       "<AxesSubplot:>"
      ]
     },
     "execution_count": 77,
     "metadata": {},
     "output_type": "execute_result"
    },
    {
     "data": {
      "image/png": "[encoded data removed]",
      "text/plain": [
       "<Figure size 1008x720 with 2 Axes>"
      ]
     },
     "metadata": {
      "needs_background": "light"
     },
     "output_type": "display_data"
    }
   ],
   "source": [
    "plt.subplots(figsize=(14,10))\n",
    "sns.heatmap(Xcorr2.corr(), annot = True)"
   ]
  },
  {
   "cell_type": "code",
   "execution_count": null,
   "id": "affecting-situation",
   "metadata": {},
   "outputs": [],
   "source": []
  },
  {
   "cell_type": "code",
   "execution_count": null,
   "id": "young-wound",
   "metadata": {},
   "outputs": [],
   "source": []
  },
  {
   "cell_type": "code",
   "execution_count": null,
   "id": "annual-cosmetic",
   "metadata": {},
   "outputs": [],
   "source": []
  },
  {
   "cell_type": "code",
   "execution_count": null,
   "id": "pressed-vegetable",
   "metadata": {},
   "outputs": [],
   "source": []
  }
 ],
 "metadata": {
  "kernelspec": {
   "display_name": "Python 3",
   "language": "python",
   "name": "python3"
  },
  "language_info": {
   "codemirror_mode": {
    "name": "ipython",
    "version": 3
   },
   "file_extension": ".py",
   "mimetype": "text/x-python",
   "name": "python",
   "nbconvert_exporter": "python",
   "pygments_lexer": "ipython3",
   "version": "3.7.6"
  }
 },
 "nbformat": 4,
 "nbformat_minor": 5
}
